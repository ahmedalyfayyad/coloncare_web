{
  "metadata": {
    "kernelspec": {
      "language": "python",
      "display_name": "Python 3",
      "name": "python3"
    },
    "language_info": {
      "name": "python",
      "version": "3.11.11",
      "mimetype": "text/x-python",
      "codemirror_mode": {
        "name": "ipython",
        "version": 3
      },
      "pygments_lexer": "ipython3",
      "nbconvert_exporter": "python",
      "file_extension": ".py"
    },
    "colab": {
      "provenance": [],
      "include_colab_link": true
    }
  },
  "nbformat_minor": 0,
  "nbformat": 4,
  "cells": [
    {
      "cell_type": "markdown",
      "metadata": {
        "id": "view-in-github",
        "colab_type": "text"
      },
      "source": [
        "<a href=\"https://colab.research.google.com/github/ahmedalyfayyad/coloncare_web/blob/main/Colon_Cancer_Detetion_custom_CNN_Histo.ipynb\" target=\"_parent\"><img src=\"https://colab.research.google.com/assets/colab-badge.svg\" alt=\"Open In Colab\"/></a>"
      ]
    },
    {
      "cell_type": "code",
      "source": [
        "import os\n",
        "import pandas as pd\n",
        "\n",
        "def load_images_from_folder(base_path):\n",
        "    valid_exts = ('.jpg', '.jpeg', '.png')\n",
        "    filepaths, labels = [], []\n",
        "\n",
        "    for label in os.listdir(base_path):\n",
        "        label_folder = os.path.join(base_path, label)\n",
        "        if not os.path.isdir(label_folder):\n",
        "            continue\n",
        "        for file in os.listdir(label_folder):\n",
        "            if file.lower().endswith(valid_exts):\n",
        "                filepaths.append(os.path.join(label_folder, file))\n",
        "                labels.append(label)\n",
        "\n",
        "    df = pd.DataFrame({'filepaths': filepaths, 'labels': labels})\n",
        "    df['labels'] = df['labels'].astype(str)\n",
        "    return df\n",
        "\n",
        "# تحديث المسارات حسب ما ظهر من !ls\n",
        "base_dir = \"/kaggle/input/curated-colon-dataset-for-deep-learning\"\n",
        "\n",
        "train_df = load_images_from_folder(os.path.join(base_dir, \"train\"))\n",
        "val_df   = load_images_from_folder(os.path.join(base_dir, \"val\"))\n",
        "test_df  = load_images_from_folder(os.path.join(base_dir, \"test\"))\n",
        "\n",
        "print(f\"✅ Train: {len(train_df)} images | Classes: {train_df['labels'].nunique()}\")\n",
        "print(f\"✅ Val:   {len(val_df)} images\")\n",
        "print(f\"✅ Test:  {len(test_df)} images\")\n"
      ],
      "metadata": {
        "_uuid": "8f2839f25d086af736a60e9eeb907d3b93b6e0e5",
        "_cell_guid": "b1076dfc-b9ad-4769-8c92-a6c4dae69d19",
        "trusted": true,
        "execution": {
          "iopub.status.busy": "2025-06-09T22:48:03.790562Z",
          "iopub.execute_input": "2025-06-09T22:48:03.790836Z",
          "iopub.status.idle": "2025-06-09T22:48:04.151911Z",
          "shell.execute_reply.started": "2025-06-09T22:48:03.790814Z",
          "shell.execute_reply": "2025-06-09T22:48:04.151192Z"
        },
        "id": "E795M46weXS3",
        "outputId": "9b36f21c-d1e8-44e1-d4c2-65cd31cdc038"
      },
      "outputs": [
        {
          "name": "stdout",
          "text": "✅ Train: 3200 images | Classes: 4\n✅ Val:   2000 images\n✅ Test:  800 images\n",
          "output_type": "stream"
        }
      ],
      "execution_count": null
    },
    {
      "cell_type": "code",
      "source": [
        "from tensorflow.keras.preprocessing.image import ImageDataGenerator\n",
        "\n",
        "# Image size\n",
        "IMG_SIZE = (224, 224)\n",
        "\n",
        "# Augmentation للـ training فقط\n",
        "train_gen = ImageDataGenerator(\n",
        "    rescale=1./255,\n",
        "    rotation_range=20,\n",
        "    zoom_range=0.2,\n",
        "    width_shift_range=0.1,\n",
        "    height_shift_range=0.1,\n",
        "    horizontal_flip=True\n",
        ")\n",
        "\n",
        "val_gen = ImageDataGenerator(rescale=1./255)\n",
        "test_gen = ImageDataGenerator(rescale=1./255)\n",
        "\n",
        "# توليد البيانات\n",
        "train_generator = train_gen.flow_from_dataframe(\n",
        "    train_df,\n",
        "    x_col='filepaths',\n",
        "    y_col='labels',\n",
        "    target_size=IMG_SIZE,\n",
        "    class_mode='categorical',\n",
        "    batch_size=32,\n",
        "    shuffle=True\n",
        ")\n",
        "\n",
        "val_generator = val_gen.flow_from_dataframe(\n",
        "    val_df,\n",
        "    x_col='filepaths',\n",
        "    y_col='labels',\n",
        "    target_size=IMG_SIZE,\n",
        "    class_mode='categorical',\n",
        "    batch_size=32,\n",
        "    shuffle=False\n",
        ")\n",
        "\n",
        "test_generator = test_gen.flow_from_dataframe(\n",
        "    test_df,\n",
        "    x_col='filepaths',\n",
        "    y_col='labels',\n",
        "    target_size=IMG_SIZE,\n",
        "    class_mode='categorical',\n",
        "    batch_size=32,\n",
        "    shuffle=False\n",
        ")\n"
      ],
      "metadata": {
        "trusted": true,
        "execution": {
          "iopub.status.busy": "2025-06-09T22:48:25.095209Z",
          "iopub.execute_input": "2025-06-09T22:48:25.095784Z",
          "iopub.status.idle": "2025-06-09T22:48:49.076981Z",
          "shell.execute_reply.started": "2025-06-09T22:48:25.095759Z",
          "shell.execute_reply": "2025-06-09T22:48:49.076409Z"
        },
        "id": "nTdBKDcneXS7",
        "outputId": "c2e6d37c-5d6d-49c3-a679-04cee25ffee1"
      },
      "outputs": [
        {
          "name": "stdout",
          "text": "Found 3200 validated image filenames belonging to 4 classes.\nFound 2000 validated image filenames belonging to 4 classes.\nFound 800 validated image filenames belonging to 4 classes.\n",
          "output_type": "stream"
        }
      ],
      "execution_count": null
    },
    {
      "cell_type": "code",
      "source": [
        "from tensorflow.keras.models import Sequential\n",
        "from tensorflow.keras.layers import Conv2D, MaxPooling2D, GlobalAveragePooling2D, Dense, Dropout, BatchNormalization\n",
        "from tensorflow.keras.optimizers import Adam\n",
        "\n",
        "model = Sequential()\n",
        "\n",
        "# Block 1\n",
        "model.add(Conv2D(32, (3,3), activation='relu', padding='same', input_shape=(224, 224, 3)))\n",
        "model.add(BatchNormalization())\n",
        "model.add(MaxPooling2D(pool_size=(2,2)))\n",
        "\n",
        "# Block 2\n",
        "model.add(Conv2D(64, (3,3), activation='relu', padding='same'))\n",
        "model.add(BatchNormalization())\n",
        "model.add(MaxPooling2D(pool_size=(2,2)))\n",
        "\n",
        "# Block 3\n",
        "model.add(Conv2D(128, (3,3), activation='relu', padding='same'))\n",
        "model.add(BatchNormalization())\n",
        "model.add(MaxPooling2D(pool_size=(2,2)))\n",
        "\n",
        "# Block 4\n",
        "model.add(Conv2D(256, (3,3), activation='relu', padding='same'))\n",
        "model.add(BatchNormalization())\n",
        "model.add(MaxPooling2D(pool_size=(2,2)))\n",
        "\n",
        "# Output\n",
        "model.add(GlobalAveragePooling2D())\n",
        "model.add(Dense(128, activation='relu'))\n",
        "model.add(Dropout(0.5))\n",
        "model.add(Dense(4, activation='softmax'))  # 4 classes\n",
        "\n",
        "# Compile\n",
        "model.compile(optimizer=Adam(learning_rate=1e-4),\n",
        "              loss='categorical_crossentropy',\n",
        "              metrics=['accuracy'])\n",
        "\n",
        "model.summary()\n"
      ],
      "metadata": {
        "trusted": true,
        "execution": {
          "iopub.status.busy": "2025-06-09T22:49:59.109584Z",
          "iopub.execute_input": "2025-06-09T22:49:59.110355Z",
          "iopub.status.idle": "2025-06-09T22:50:01.736656Z",
          "shell.execute_reply.started": "2025-06-09T22:49:59.110325Z",
          "shell.execute_reply": "2025-06-09T22:50:01.735936Z"
        },
        "id": "sirhJzaeeXS7",
        "outputId": "60d17d4c-b30b-422c-9798-75dfd07d8d72"
      },
      "outputs": [
        {
          "name": "stderr",
          "text": "/usr/local/lib/python3.11/dist-packages/keras/src/layers/convolutional/base_conv.py:107: UserWarning: Do not pass an `input_shape`/`input_dim` argument to a layer. When using Sequential models, prefer using an `Input(shape)` object as the first layer in the model instead.\n  super().__init__(activity_regularizer=activity_regularizer, **kwargs)\nI0000 00:00:1749509400.372526      35 gpu_device.cc:2022] Created device /job:localhost/replica:0/task:0/device:GPU:0 with 13942 MB memory:  -> device: 0, name: Tesla T4, pci bus id: 0000:00:04.0, compute capability: 7.5\nI0000 00:00:1749509400.373314      35 gpu_device.cc:2022] Created device /job:localhost/replica:0/task:0/device:GPU:1 with 13942 MB memory:  -> device: 1, name: Tesla T4, pci bus id: 0000:00:05.0, compute capability: 7.5\n",
          "output_type": "stream"
        },
        {
          "output_type": "display_data",
          "data": {
            "text/plain": "\u001b[1mModel: \"sequential\"\u001b[0m\n",
            "text/html": "<pre style=\"white-space:pre;overflow-x:auto;line-height:normal;font-family:Menlo,'DejaVu Sans Mono',consolas,'Courier New',monospace\"><span style=\"font-weight: bold\">Model: \"sequential\"</span>\n</pre>\n"
          },
          "metadata": {}
        },
        {
          "output_type": "display_data",
          "data": {
            "text/plain": "┏━━━━━━━━━━━━━━━━━━━━━━━━━━━━━━━━━━━━━━┳━━━━━━━━━━━━━━━━━━━━━━━━━━━━━┳━━━━━━━━━━━━━━━━━┓\n┃\u001b[1m \u001b[0m\u001b[1mLayer (type)                        \u001b[0m\u001b[1m \u001b[0m┃\u001b[1m \u001b[0m\u001b[1mOutput Shape               \u001b[0m\u001b[1m \u001b[0m┃\u001b[1m \u001b[0m\u001b[1m        Param #\u001b[0m\u001b[1m \u001b[0m┃\n┡━━━━━━━━━━━━━━━━━━━━━━━━━━━━━━━━━━━━━━╇━━━━━━━━━━━━━━━━━━━━━━━━━━━━━╇━━━━━━━━━━━━━━━━━┩\n│ conv2d (\u001b[38;5;33mConv2D\u001b[0m)                      │ (\u001b[38;5;45mNone\u001b[0m, \u001b[38;5;34m224\u001b[0m, \u001b[38;5;34m224\u001b[0m, \u001b[38;5;34m32\u001b[0m)        │             \u001b[38;5;34m896\u001b[0m │\n├──────────────────────────────────────┼─────────────────────────────┼─────────────────┤\n│ batch_normalization                  │ (\u001b[38;5;45mNone\u001b[0m, \u001b[38;5;34m224\u001b[0m, \u001b[38;5;34m224\u001b[0m, \u001b[38;5;34m32\u001b[0m)        │             \u001b[38;5;34m128\u001b[0m │\n│ (\u001b[38;5;33mBatchNormalization\u001b[0m)                 │                             │                 │\n├──────────────────────────────────────┼─────────────────────────────┼─────────────────┤\n│ max_pooling2d (\u001b[38;5;33mMaxPooling2D\u001b[0m)         │ (\u001b[38;5;45mNone\u001b[0m, \u001b[38;5;34m112\u001b[0m, \u001b[38;5;34m112\u001b[0m, \u001b[38;5;34m32\u001b[0m)        │               \u001b[38;5;34m0\u001b[0m │\n├──────────────────────────────────────┼─────────────────────────────┼─────────────────┤\n│ conv2d_1 (\u001b[38;5;33mConv2D\u001b[0m)                    │ (\u001b[38;5;45mNone\u001b[0m, \u001b[38;5;34m112\u001b[0m, \u001b[38;5;34m112\u001b[0m, \u001b[38;5;34m64\u001b[0m)        │          \u001b[38;5;34m18,496\u001b[0m │\n├──────────────────────────────────────┼─────────────────────────────┼─────────────────┤\n│ batch_normalization_1                │ (\u001b[38;5;45mNone\u001b[0m, \u001b[38;5;34m112\u001b[0m, \u001b[38;5;34m112\u001b[0m, \u001b[38;5;34m64\u001b[0m)        │             \u001b[38;5;34m256\u001b[0m │\n│ (\u001b[38;5;33mBatchNormalization\u001b[0m)                 │                             │                 │\n├──────────────────────────────────────┼─────────────────────────────┼─────────────────┤\n│ max_pooling2d_1 (\u001b[38;5;33mMaxPooling2D\u001b[0m)       │ (\u001b[38;5;45mNone\u001b[0m, \u001b[38;5;34m56\u001b[0m, \u001b[38;5;34m56\u001b[0m, \u001b[38;5;34m64\u001b[0m)          │               \u001b[38;5;34m0\u001b[0m │\n├──────────────────────────────────────┼─────────────────────────────┼─────────────────┤\n│ conv2d_2 (\u001b[38;5;33mConv2D\u001b[0m)                    │ (\u001b[38;5;45mNone\u001b[0m, \u001b[38;5;34m56\u001b[0m, \u001b[38;5;34m56\u001b[0m, \u001b[38;5;34m128\u001b[0m)         │          \u001b[38;5;34m73,856\u001b[0m │\n├──────────────────────────────────────┼─────────────────────────────┼─────────────────┤\n│ batch_normalization_2                │ (\u001b[38;5;45mNone\u001b[0m, \u001b[38;5;34m56\u001b[0m, \u001b[38;5;34m56\u001b[0m, \u001b[38;5;34m128\u001b[0m)         │             \u001b[38;5;34m512\u001b[0m │\n│ (\u001b[38;5;33mBatchNormalization\u001b[0m)                 │                             │                 │\n├──────────────────────────────────────┼─────────────────────────────┼─────────────────┤\n│ max_pooling2d_2 (\u001b[38;5;33mMaxPooling2D\u001b[0m)       │ (\u001b[38;5;45mNone\u001b[0m, \u001b[38;5;34m28\u001b[0m, \u001b[38;5;34m28\u001b[0m, \u001b[38;5;34m128\u001b[0m)         │               \u001b[38;5;34m0\u001b[0m │\n├──────────────────────────────────────┼─────────────────────────────┼─────────────────┤\n│ conv2d_3 (\u001b[38;5;33mConv2D\u001b[0m)                    │ (\u001b[38;5;45mNone\u001b[0m, \u001b[38;5;34m28\u001b[0m, \u001b[38;5;34m28\u001b[0m, \u001b[38;5;34m256\u001b[0m)         │         \u001b[38;5;34m295,168\u001b[0m │\n├──────────────────────────────────────┼─────────────────────────────┼─────────────────┤\n│ batch_normalization_3                │ (\u001b[38;5;45mNone\u001b[0m, \u001b[38;5;34m28\u001b[0m, \u001b[38;5;34m28\u001b[0m, \u001b[38;5;34m256\u001b[0m)         │           \u001b[38;5;34m1,024\u001b[0m │\n│ (\u001b[38;5;33mBatchNormalization\u001b[0m)                 │                             │                 │\n├──────────────────────────────────────┼─────────────────────────────┼─────────────────┤\n│ max_pooling2d_3 (\u001b[38;5;33mMaxPooling2D\u001b[0m)       │ (\u001b[38;5;45mNone\u001b[0m, \u001b[38;5;34m14\u001b[0m, \u001b[38;5;34m14\u001b[0m, \u001b[38;5;34m256\u001b[0m)         │               \u001b[38;5;34m0\u001b[0m │\n├──────────────────────────────────────┼─────────────────────────────┼─────────────────┤\n│ global_average_pooling2d             │ (\u001b[38;5;45mNone\u001b[0m, \u001b[38;5;34m256\u001b[0m)                 │               \u001b[38;5;34m0\u001b[0m │\n│ (\u001b[38;5;33mGlobalAveragePooling2D\u001b[0m)             │                             │                 │\n├──────────────────────────────────────┼─────────────────────────────┼─────────────────┤\n│ dense (\u001b[38;5;33mDense\u001b[0m)                        │ (\u001b[38;5;45mNone\u001b[0m, \u001b[38;5;34m128\u001b[0m)                 │          \u001b[38;5;34m32,896\u001b[0m │\n├──────────────────────────────────────┼─────────────────────────────┼─────────────────┤\n│ dropout (\u001b[38;5;33mDropout\u001b[0m)                    │ (\u001b[38;5;45mNone\u001b[0m, \u001b[38;5;34m128\u001b[0m)                 │               \u001b[38;5;34m0\u001b[0m │\n├──────────────────────────────────────┼─────────────────────────────┼─────────────────┤\n│ dense_1 (\u001b[38;5;33mDense\u001b[0m)                      │ (\u001b[38;5;45mNone\u001b[0m, \u001b[38;5;34m4\u001b[0m)                   │             \u001b[38;5;34m516\u001b[0m │\n└──────────────────────────────────────┴─────────────────────────────┴─────────────────┘\n",
            "text/html": "<pre style=\"white-space:pre;overflow-x:auto;line-height:normal;font-family:Menlo,'DejaVu Sans Mono',consolas,'Courier New',monospace\">┏━━━━━━━━━━━━━━━━━━━━━━━━━━━━━━━━━━━━━━┳━━━━━━━━━━━━━━━━━━━━━━━━━━━━━┳━━━━━━━━━━━━━━━━━┓\n┃<span style=\"font-weight: bold\"> Layer (type)                         </span>┃<span style=\"font-weight: bold\"> Output Shape                </span>┃<span style=\"font-weight: bold\">         Param # </span>┃\n┡━━━━━━━━━━━━━━━━━━━━━━━━━━━━━━━━━━━━━━╇━━━━━━━━━━━━━━━━━━━━━━━━━━━━━╇━━━━━━━━━━━━━━━━━┩\n│ conv2d (<span style=\"color: #0087ff; text-decoration-color: #0087ff\">Conv2D</span>)                      │ (<span style=\"color: #00d7ff; text-decoration-color: #00d7ff\">None</span>, <span style=\"color: #00af00; text-decoration-color: #00af00\">224</span>, <span style=\"color: #00af00; text-decoration-color: #00af00\">224</span>, <span style=\"color: #00af00; text-decoration-color: #00af00\">32</span>)        │             <span style=\"color: #00af00; text-decoration-color: #00af00\">896</span> │\n├──────────────────────────────────────┼─────────────────────────────┼─────────────────┤\n│ batch_normalization                  │ (<span style=\"color: #00d7ff; text-decoration-color: #00d7ff\">None</span>, <span style=\"color: #00af00; text-decoration-color: #00af00\">224</span>, <span style=\"color: #00af00; text-decoration-color: #00af00\">224</span>, <span style=\"color: #00af00; text-decoration-color: #00af00\">32</span>)        │             <span style=\"color: #00af00; text-decoration-color: #00af00\">128</span> │\n│ (<span style=\"color: #0087ff; text-decoration-color: #0087ff\">BatchNormalization</span>)                 │                             │                 │\n├──────────────────────────────────────┼─────────────────────────────┼─────────────────┤\n│ max_pooling2d (<span style=\"color: #0087ff; text-decoration-color: #0087ff\">MaxPooling2D</span>)         │ (<span style=\"color: #00d7ff; text-decoration-color: #00d7ff\">None</span>, <span style=\"color: #00af00; text-decoration-color: #00af00\">112</span>, <span style=\"color: #00af00; text-decoration-color: #00af00\">112</span>, <span style=\"color: #00af00; text-decoration-color: #00af00\">32</span>)        │               <span style=\"color: #00af00; text-decoration-color: #00af00\">0</span> │\n├──────────────────────────────────────┼─────────────────────────────┼─────────────────┤\n│ conv2d_1 (<span style=\"color: #0087ff; text-decoration-color: #0087ff\">Conv2D</span>)                    │ (<span style=\"color: #00d7ff; text-decoration-color: #00d7ff\">None</span>, <span style=\"color: #00af00; text-decoration-color: #00af00\">112</span>, <span style=\"color: #00af00; text-decoration-color: #00af00\">112</span>, <span style=\"color: #00af00; text-decoration-color: #00af00\">64</span>)        │          <span style=\"color: #00af00; text-decoration-color: #00af00\">18,496</span> │\n├──────────────────────────────────────┼─────────────────────────────┼─────────────────┤\n│ batch_normalization_1                │ (<span style=\"color: #00d7ff; text-decoration-color: #00d7ff\">None</span>, <span style=\"color: #00af00; text-decoration-color: #00af00\">112</span>, <span style=\"color: #00af00; text-decoration-color: #00af00\">112</span>, <span style=\"color: #00af00; text-decoration-color: #00af00\">64</span>)        │             <span style=\"color: #00af00; text-decoration-color: #00af00\">256</span> │\n│ (<span style=\"color: #0087ff; text-decoration-color: #0087ff\">BatchNormalization</span>)                 │                             │                 │\n├──────────────────────────────────────┼─────────────────────────────┼─────────────────┤\n│ max_pooling2d_1 (<span style=\"color: #0087ff; text-decoration-color: #0087ff\">MaxPooling2D</span>)       │ (<span style=\"color: #00d7ff; text-decoration-color: #00d7ff\">None</span>, <span style=\"color: #00af00; text-decoration-color: #00af00\">56</span>, <span style=\"color: #00af00; text-decoration-color: #00af00\">56</span>, <span style=\"color: #00af00; text-decoration-color: #00af00\">64</span>)          │               <span style=\"color: #00af00; text-decoration-color: #00af00\">0</span> │\n├──────────────────────────────────────┼─────────────────────────────┼─────────────────┤\n│ conv2d_2 (<span style=\"color: #0087ff; text-decoration-color: #0087ff\">Conv2D</span>)                    │ (<span style=\"color: #00d7ff; text-decoration-color: #00d7ff\">None</span>, <span style=\"color: #00af00; text-decoration-color: #00af00\">56</span>, <span style=\"color: #00af00; text-decoration-color: #00af00\">56</span>, <span style=\"color: #00af00; text-decoration-color: #00af00\">128</span>)         │          <span style=\"color: #00af00; text-decoration-color: #00af00\">73,856</span> │\n├──────────────────────────────────────┼─────────────────────────────┼─────────────────┤\n│ batch_normalization_2                │ (<span style=\"color: #00d7ff; text-decoration-color: #00d7ff\">None</span>, <span style=\"color: #00af00; text-decoration-color: #00af00\">56</span>, <span style=\"color: #00af00; text-decoration-color: #00af00\">56</span>, <span style=\"color: #00af00; text-decoration-color: #00af00\">128</span>)         │             <span style=\"color: #00af00; text-decoration-color: #00af00\">512</span> │\n│ (<span style=\"color: #0087ff; text-decoration-color: #0087ff\">BatchNormalization</span>)                 │                             │                 │\n├──────────────────────────────────────┼─────────────────────────────┼─────────────────┤\n│ max_pooling2d_2 (<span style=\"color: #0087ff; text-decoration-color: #0087ff\">MaxPooling2D</span>)       │ (<span style=\"color: #00d7ff; text-decoration-color: #00d7ff\">None</span>, <span style=\"color: #00af00; text-decoration-color: #00af00\">28</span>, <span style=\"color: #00af00; text-decoration-color: #00af00\">28</span>, <span style=\"color: #00af00; text-decoration-color: #00af00\">128</span>)         │               <span style=\"color: #00af00; text-decoration-color: #00af00\">0</span> │\n├──────────────────────────────────────┼─────────────────────────────┼─────────────────┤\n│ conv2d_3 (<span style=\"color: #0087ff; text-decoration-color: #0087ff\">Conv2D</span>)                    │ (<span style=\"color: #00d7ff; text-decoration-color: #00d7ff\">None</span>, <span style=\"color: #00af00; text-decoration-color: #00af00\">28</span>, <span style=\"color: #00af00; text-decoration-color: #00af00\">28</span>, <span style=\"color: #00af00; text-decoration-color: #00af00\">256</span>)         │         <span style=\"color: #00af00; text-decoration-color: #00af00\">295,168</span> │\n├──────────────────────────────────────┼─────────────────────────────┼─────────────────┤\n│ batch_normalization_3                │ (<span style=\"color: #00d7ff; text-decoration-color: #00d7ff\">None</span>, <span style=\"color: #00af00; text-decoration-color: #00af00\">28</span>, <span style=\"color: #00af00; text-decoration-color: #00af00\">28</span>, <span style=\"color: #00af00; text-decoration-color: #00af00\">256</span>)         │           <span style=\"color: #00af00; text-decoration-color: #00af00\">1,024</span> │\n│ (<span style=\"color: #0087ff; text-decoration-color: #0087ff\">BatchNormalization</span>)                 │                             │                 │\n├──────────────────────────────────────┼─────────────────────────────┼─────────────────┤\n│ max_pooling2d_3 (<span style=\"color: #0087ff; text-decoration-color: #0087ff\">MaxPooling2D</span>)       │ (<span style=\"color: #00d7ff; text-decoration-color: #00d7ff\">None</span>, <span style=\"color: #00af00; text-decoration-color: #00af00\">14</span>, <span style=\"color: #00af00; text-decoration-color: #00af00\">14</span>, <span style=\"color: #00af00; text-decoration-color: #00af00\">256</span>)         │               <span style=\"color: #00af00; text-decoration-color: #00af00\">0</span> │\n├──────────────────────────────────────┼─────────────────────────────┼─────────────────┤\n│ global_average_pooling2d             │ (<span style=\"color: #00d7ff; text-decoration-color: #00d7ff\">None</span>, <span style=\"color: #00af00; text-decoration-color: #00af00\">256</span>)                 │               <span style=\"color: #00af00; text-decoration-color: #00af00\">0</span> │\n│ (<span style=\"color: #0087ff; text-decoration-color: #0087ff\">GlobalAveragePooling2D</span>)             │                             │                 │\n├──────────────────────────────────────┼─────────────────────────────┼─────────────────┤\n│ dense (<span style=\"color: #0087ff; text-decoration-color: #0087ff\">Dense</span>)                        │ (<span style=\"color: #00d7ff; text-decoration-color: #00d7ff\">None</span>, <span style=\"color: #00af00; text-decoration-color: #00af00\">128</span>)                 │          <span style=\"color: #00af00; text-decoration-color: #00af00\">32,896</span> │\n├──────────────────────────────────────┼─────────────────────────────┼─────────────────┤\n│ dropout (<span style=\"color: #0087ff; text-decoration-color: #0087ff\">Dropout</span>)                    │ (<span style=\"color: #00d7ff; text-decoration-color: #00d7ff\">None</span>, <span style=\"color: #00af00; text-decoration-color: #00af00\">128</span>)                 │               <span style=\"color: #00af00; text-decoration-color: #00af00\">0</span> │\n├──────────────────────────────────────┼─────────────────────────────┼─────────────────┤\n│ dense_1 (<span style=\"color: #0087ff; text-decoration-color: #0087ff\">Dense</span>)                      │ (<span style=\"color: #00d7ff; text-decoration-color: #00d7ff\">None</span>, <span style=\"color: #00af00; text-decoration-color: #00af00\">4</span>)                   │             <span style=\"color: #00af00; text-decoration-color: #00af00\">516</span> │\n└──────────────────────────────────────┴─────────────────────────────┴─────────────────┘\n</pre>\n"
          },
          "metadata": {}
        },
        {
          "output_type": "display_data",
          "data": {
            "text/plain": "\u001b[1m Total params: \u001b[0m\u001b[38;5;34m423,748\u001b[0m (1.62 MB)\n",
            "text/html": "<pre style=\"white-space:pre;overflow-x:auto;line-height:normal;font-family:Menlo,'DejaVu Sans Mono',consolas,'Courier New',monospace\"><span style=\"font-weight: bold\"> Total params: </span><span style=\"color: #00af00; text-decoration-color: #00af00\">423,748</span> (1.62 MB)\n</pre>\n"
          },
          "metadata": {}
        },
        {
          "output_type": "display_data",
          "data": {
            "text/plain": "\u001b[1m Trainable params: \u001b[0m\u001b[38;5;34m422,788\u001b[0m (1.61 MB)\n",
            "text/html": "<pre style=\"white-space:pre;overflow-x:auto;line-height:normal;font-family:Menlo,'DejaVu Sans Mono',consolas,'Courier New',monospace\"><span style=\"font-weight: bold\"> Trainable params: </span><span style=\"color: #00af00; text-decoration-color: #00af00\">422,788</span> (1.61 MB)\n</pre>\n"
          },
          "metadata": {}
        },
        {
          "output_type": "display_data",
          "data": {
            "text/plain": "\u001b[1m Non-trainable params: \u001b[0m\u001b[38;5;34m960\u001b[0m (3.75 KB)\n",
            "text/html": "<pre style=\"white-space:pre;overflow-x:auto;line-height:normal;font-family:Menlo,'DejaVu Sans Mono',consolas,'Courier New',monospace\"><span style=\"font-weight: bold\"> Non-trainable params: </span><span style=\"color: #00af00; text-decoration-color: #00af00\">960</span> (3.75 KB)\n</pre>\n"
          },
          "metadata": {}
        }
      ],
      "execution_count": null
    },
    {
      "cell_type": "code",
      "source": [
        "from tensorflow.keras.callbacks import EarlyStopping, ReduceLROnPlateau\n",
        "\n",
        "early_stop = EarlyStopping(monitor='val_loss', patience=5, restore_best_weights=True)\n",
        "reduce_lr = ReduceLROnPlateau(monitor='val_loss', factor=0.3, patience=3, min_lr=1e-6)\n",
        "\n",
        "history = model.fit(\n",
        "    train_generator,\n",
        "    validation_data=val_generator,\n",
        "    epochs=30,\n",
        "    callbacks=[early_stop, reduce_lr]\n",
        ")\n"
      ],
      "metadata": {
        "trusted": true,
        "execution": {
          "iopub.status.busy": "2025-06-09T22:50:30.613167Z",
          "iopub.execute_input": "2025-06-09T22:50:30.613475Z",
          "iopub.status.idle": "2025-06-09T23:15:24.257166Z",
          "shell.execute_reply.started": "2025-06-09T22:50:30.613455Z",
          "shell.execute_reply": "2025-06-09T23:15:24.256573Z"
        },
        "id": "qkGroIimeXS8",
        "outputId": "f6bf5fba-5a7d-43bd-ec29-540f93afa169"
      },
      "outputs": [
        {
          "name": "stderr",
          "text": "/usr/local/lib/python3.11/dist-packages/keras/src/trainers/data_adapters/py_dataset_adapter.py:121: UserWarning: Your `PyDataset` class should call `super().__init__(**kwargs)` in its constructor. `**kwargs` can include `workers`, `use_multiprocessing`, `max_queue_size`. Do not pass these arguments to `fit()`, as they will be ignored.\n  self._warn_if_super_not_called()\n",
          "output_type": "stream"
        },
        {
          "name": "stdout",
          "text": "Epoch 1/30\n",
          "output_type": "stream"
        },
        {
          "name": "stderr",
          "text": "WARNING: All log messages before absl::InitializeLog() is called are written to STDERR\nI0000 00:00:1749509437.565142     102 service.cc:148] XLA service 0x7da4681193f0 initialized for platform CUDA (this does not guarantee that XLA will be used). Devices:\nI0000 00:00:1749509437.565979     102 service.cc:156]   StreamExecutor device (0): Tesla T4, Compute Capability 7.5\nI0000 00:00:1749509437.566000     102 service.cc:156]   StreamExecutor device (1): Tesla T4, Compute Capability 7.5\nI0000 00:00:1749509438.135232     102 cuda_dnn.cc:529] Loaded cuDNN version 90300\n",
          "output_type": "stream"
        },
        {
          "name": "stdout",
          "text": "\u001b[1m  2/100\u001b[0m \u001b[37m━━━━━━━━━━━━━━━━━━━━\u001b[0m \u001b[1m7s\u001b[0m 74ms/step - accuracy: 0.3516 - loss: 1.6752  ",
          "output_type": "stream"
        },
        {
          "name": "stderr",
          "text": "I0000 00:00:1749509444.798541     102 device_compiler.h:188] Compiled cluster using XLA!  This line is logged at most once for the lifetime of the process.\n",
          "output_type": "stream"
        },
        {
          "name": "stdout",
          "text": "\u001b[1m100/100\u001b[0m \u001b[32m━━━━━━━━━━━━━━━━━━━━\u001b[0m\u001b[37m\u001b[0m \u001b[1m111s\u001b[0m 996ms/step - accuracy: 0.7039 - loss: 0.7482 - val_accuracy: 0.2500 - val_loss: 1.6676 - learning_rate: 1.0000e-04\nEpoch 2/30\n\u001b[1m100/100\u001b[0m \u001b[32m━━━━━━━━━━━━━━━━━━━━\u001b[0m\u001b[37m\u001b[0m \u001b[1m63s\u001b[0m 631ms/step - accuracy: 0.8551 - loss: 0.3657 - val_accuracy: 0.2500 - val_loss: 2.0430 - learning_rate: 1.0000e-04\nEpoch 3/30\n\u001b[1m100/100\u001b[0m \u001b[32m━━━━━━━━━━━━━━━━━━━━\u001b[0m\u001b[37m\u001b[0m \u001b[1m62s\u001b[0m 625ms/step - accuracy: 0.9075 - loss: 0.2562 - val_accuracy: 0.2510 - val_loss: 1.6520 - learning_rate: 1.0000e-04\nEpoch 4/30\n\u001b[1m100/100\u001b[0m \u001b[32m━━━━━━━━━━━━━━━━━━━━\u001b[0m\u001b[37m\u001b[0m \u001b[1m62s\u001b[0m 625ms/step - accuracy: 0.9280 - loss: 0.2008 - val_accuracy: 0.5685 - val_loss: 1.2060 - learning_rate: 1.0000e-04\nEpoch 5/30\n\u001b[1m100/100\u001b[0m \u001b[32m━━━━━━━━━━━━━━━━━━━━\u001b[0m\u001b[37m\u001b[0m \u001b[1m62s\u001b[0m 619ms/step - accuracy: 0.9399 - loss: 0.1914 - val_accuracy: 0.6365 - val_loss: 1.1591 - learning_rate: 1.0000e-04\nEpoch 6/30\n\u001b[1m100/100\u001b[0m \u001b[32m━━━━━━━━━━━━━━━━━━━━\u001b[0m\u001b[37m\u001b[0m \u001b[1m63s\u001b[0m 627ms/step - accuracy: 0.9489 - loss: 0.1623 - val_accuracy: 0.7135 - val_loss: 0.9588 - learning_rate: 1.0000e-04\nEpoch 7/30\n\u001b[1m100/100\u001b[0m \u001b[32m━━━━━━━━━━━━━━━━━━━━\u001b[0m\u001b[37m\u001b[0m \u001b[1m63s\u001b[0m 630ms/step - accuracy: 0.9494 - loss: 0.1460 - val_accuracy: 0.7035 - val_loss: 1.1269 - learning_rate: 1.0000e-04\nEpoch 8/30\n\u001b[1m100/100\u001b[0m \u001b[32m━━━━━━━━━━━━━━━━━━━━\u001b[0m\u001b[37m\u001b[0m \u001b[1m63s\u001b[0m 632ms/step - accuracy: 0.9552 - loss: 0.1423 - val_accuracy: 0.7435 - val_loss: 0.8758 - learning_rate: 1.0000e-04\nEpoch 9/30\n\u001b[1m100/100\u001b[0m \u001b[32m━━━━━━━━━━━━━━━━━━━━\u001b[0m\u001b[37m\u001b[0m \u001b[1m63s\u001b[0m 630ms/step - accuracy: 0.9503 - loss: 0.1525 - val_accuracy: 0.7380 - val_loss: 0.9714 - learning_rate: 1.0000e-04\nEpoch 10/30\n\u001b[1m100/100\u001b[0m \u001b[32m━━━━━━━━━━━━━━━━━━━━\u001b[0m\u001b[37m\u001b[0m \u001b[1m63s\u001b[0m 632ms/step - accuracy: 0.9683 - loss: 0.1098 - val_accuracy: 0.7495 - val_loss: 1.1870 - learning_rate: 1.0000e-04\nEpoch 11/30\n\u001b[1m100/100\u001b[0m \u001b[32m━━━━━━━━━━━━━━━━━━━━\u001b[0m\u001b[37m\u001b[0m \u001b[1m63s\u001b[0m 628ms/step - accuracy: 0.9648 - loss: 0.1118 - val_accuracy: 0.7365 - val_loss: 0.9103 - learning_rate: 1.0000e-04\nEpoch 12/30\n\u001b[1m100/100\u001b[0m \u001b[32m━━━━━━━━━━━━━━━━━━━━\u001b[0m\u001b[37m\u001b[0m \u001b[1m62s\u001b[0m 620ms/step - accuracy: 0.9672 - loss: 0.1047 - val_accuracy: 0.7425 - val_loss: 0.8031 - learning_rate: 3.0000e-05\nEpoch 13/30\n\u001b[1m100/100\u001b[0m \u001b[32m━━━━━━━━━━━━━━━━━━━━\u001b[0m\u001b[37m\u001b[0m \u001b[1m64s\u001b[0m 645ms/step - accuracy: 0.9709 - loss: 0.0974 - val_accuracy: 0.7430 - val_loss: 0.8382 - learning_rate: 3.0000e-05\nEpoch 14/30\n\u001b[1m100/100\u001b[0m \u001b[32m━━━━━━━━━━━━━━━━━━━━\u001b[0m\u001b[37m\u001b[0m \u001b[1m62s\u001b[0m 621ms/step - accuracy: 0.9739 - loss: 0.0878 - val_accuracy: 0.7455 - val_loss: 0.8306 - learning_rate: 3.0000e-05\nEpoch 15/30\n\u001b[1m100/100\u001b[0m \u001b[32m━━━━━━━━━━━━━━━━━━━━\u001b[0m\u001b[37m\u001b[0m \u001b[1m62s\u001b[0m 623ms/step - accuracy: 0.9805 - loss: 0.0698 - val_accuracy: 0.7580 - val_loss: 0.7452 - learning_rate: 3.0000e-05\nEpoch 16/30\n\u001b[1m100/100\u001b[0m \u001b[32m━━━━━━━━━━━━━━━━━━━━\u001b[0m\u001b[37m\u001b[0m \u001b[1m62s\u001b[0m 621ms/step - accuracy: 0.9754 - loss: 0.0854 - val_accuracy: 0.7440 - val_loss: 0.8456 - learning_rate: 3.0000e-05\nEpoch 17/30\n\u001b[1m100/100\u001b[0m \u001b[32m━━━━━━━━━━━━━━━━━━━━\u001b[0m\u001b[37m\u001b[0m \u001b[1m63s\u001b[0m 628ms/step - accuracy: 0.9766 - loss: 0.0757 - val_accuracy: 0.7530 - val_loss: 0.7529 - learning_rate: 3.0000e-05\nEpoch 18/30\n\u001b[1m100/100\u001b[0m \u001b[32m━━━━━━━━━━━━━━━━━━━━\u001b[0m\u001b[37m\u001b[0m \u001b[1m64s\u001b[0m 637ms/step - accuracy: 0.9802 - loss: 0.0670 - val_accuracy: 0.7510 - val_loss: 0.7108 - learning_rate: 3.0000e-05\nEpoch 19/30\n\u001b[1m100/100\u001b[0m \u001b[32m━━━━━━━━━━━━━━━━━━━━\u001b[0m\u001b[37m\u001b[0m \u001b[1m63s\u001b[0m 628ms/step - accuracy: 0.9810 - loss: 0.0705 - val_accuracy: 0.7510 - val_loss: 0.7787 - learning_rate: 3.0000e-05\nEpoch 20/30\n\u001b[1m100/100\u001b[0m \u001b[32m━━━━━━━━━━━━━━━━━━━━\u001b[0m\u001b[37m\u001b[0m \u001b[1m63s\u001b[0m 629ms/step - accuracy: 0.9735 - loss: 0.0876 - val_accuracy: 0.7500 - val_loss: 0.8813 - learning_rate: 3.0000e-05\nEpoch 21/30\n\u001b[1m100/100\u001b[0m \u001b[32m━━━━━━━━━━━━━━━━━━━━\u001b[0m\u001b[37m\u001b[0m \u001b[1m63s\u001b[0m 632ms/step - accuracy: 0.9814 - loss: 0.0709 - val_accuracy: 0.7425 - val_loss: 0.9350 - learning_rate: 3.0000e-05\nEpoch 22/30\n\u001b[1m100/100\u001b[0m \u001b[32m━━━━━━━━━━━━━━━━━━━━\u001b[0m\u001b[37m\u001b[0m \u001b[1m63s\u001b[0m 627ms/step - accuracy: 0.9819 - loss: 0.0600 - val_accuracy: 0.7475 - val_loss: 0.8084 - learning_rate: 9.0000e-06\nEpoch 23/30\n\u001b[1m100/100\u001b[0m \u001b[32m━━━━━━━━━━━━━━━━━━━━\u001b[0m\u001b[37m\u001b[0m \u001b[1m63s\u001b[0m 630ms/step - accuracy: 0.9800 - loss: 0.0673 - val_accuracy: 0.7520 - val_loss: 0.7675 - learning_rate: 9.0000e-06\n",
          "output_type": "stream"
        }
      ],
      "execution_count": null
    },
    {
      "cell_type": "code",
      "source": [
        "import numpy as np\n",
        "from sklearn.metrics import classification_report, confusion_matrix\n",
        "import seaborn as sns\n",
        "import matplotlib.pyplot as plt\n",
        "\n",
        "# التوقعات على مجموعة التحقق\n",
        "val_preds = model.predict(val_generator, verbose=1)\n",
        "pred_classes = np.argmax(val_preds, axis=1)\n",
        "true_classes = val_generator.classes\n",
        "class_labels = list(val_generator.class_indices.keys())\n",
        "\n",
        "# Confusion Matrix\n",
        "cm = confusion_matrix(true_classes, pred_classes)\n",
        "plt.figure(figsize=(6, 5))\n",
        "sns.heatmap(cm, annot=True, fmt='d', cmap='Blues', xticklabels=class_labels, yticklabels=class_labels)\n",
        "plt.xlabel(\"Predicted\")\n",
        "plt.ylabel(\"True\")\n",
        "plt.title(\"Confusion Matrix\")\n",
        "plt.show()\n",
        "\n",
        "# Classification Report\n",
        "print(classification_report(true_classes, pred_classes, target_names=class_labels))\n"
      ],
      "metadata": {
        "trusted": true,
        "execution": {
          "iopub.status.busy": "2025-06-09T23:31:20.642947Z",
          "iopub.execute_input": "2025-06-09T23:31:20.643279Z",
          "iopub.status.idle": "2025-06-09T23:31:38.393378Z",
          "shell.execute_reply.started": "2025-06-09T23:31:20.643255Z",
          "shell.execute_reply": "2025-06-09T23:31:38.392810Z"
        },
        "id": "Ws4fu49leXS8",
        "outputId": "77806d6b-167c-4dae-d64a-a2cbb6246ff8"
      },
      "outputs": [
        {
          "name": "stdout",
          "text": "\u001b[1m63/63\u001b[0m \u001b[32m━━━━━━━━━━━━━━━━━━━━\u001b[0m\u001b[37m\u001b[0m \u001b[1m17s\u001b[0m 260ms/step\n",
          "output_type": "stream"
        },
        {
          "output_type": "display_data",
          "data": {
            "text/plain": "<Figure size 600x500 with 2 Axes>",
            "image/png": "[encoded data removed]"
          },
          "metadata": {}
        },
        {
          "name": "stdout",
          "text": "                      precision    recall  f1-score   support\n\n            0_normal       0.91      1.00      0.95       500\n1_ulcerative_colitis       0.53      0.93      0.68       500\n            2_polyps       0.63      0.11      0.19       500\n       3_esophagitis       0.99      0.96      0.98       500\n\n            accuracy                           0.75      2000\n           macro avg       0.77      0.75      0.70      2000\n        weighted avg       0.77      0.75      0.70      2000\n\n",
          "output_type": "stream"
        }
      ],
      "execution_count": null
    },
    {
      "cell_type": "code",
      "source": [
        "train_df['labels'].value_counts()\n"
      ],
      "metadata": {
        "trusted": true,
        "execution": {
          "iopub.status.busy": "2025-06-09T23:34:31.326458Z",
          "iopub.execute_input": "2025-06-09T23:34:31.326841Z",
          "iopub.status.idle": "2025-06-09T23:34:31.337266Z",
          "shell.execute_reply.started": "2025-06-09T23:34:31.326810Z",
          "shell.execute_reply": "2025-06-09T23:34:31.336357Z"
        },
        "id": "Mm3aEsQgeXS8",
        "outputId": "9b66164a-64b7-4207-c0a7-7bfadafd4cc6"
      },
      "outputs": [
        {
          "execution_count": 14,
          "output_type": "execute_result",
          "data": {
            "text/plain": "labels\n0_normal                800\n2_polyps                800\n3_esophagitis           800\n1_ulcerative_colitis    800\nName: count, dtype: int64"
          },
          "metadata": {}
        }
      ],
      "execution_count": null
    },
    {
      "cell_type": "code",
      "source": [
        "from tensorflow.keras.preprocessing.image import ImageDataGenerator, img_to_array, load_img\n",
        "import os\n",
        "import random\n",
        "import shutil\n",
        "\n",
        "augmentor = ImageDataGenerator(\n",
        "    rotation_range=20,\n",
        "    zoom_range=0.2,\n",
        "    horizontal_flip=True,\n",
        "    width_shift_range=0.1,\n",
        "    height_shift_range=0.1,\n",
        "    fill_mode='nearest'\n",
        ")\n"
      ],
      "metadata": {
        "trusted": true,
        "execution": {
          "iopub.status.busy": "2025-06-09T23:35:17.440712Z",
          "iopub.execute_input": "2025-06-09T23:35:17.440962Z",
          "iopub.status.idle": "2025-06-09T23:35:17.445291Z",
          "shell.execute_reply.started": "2025-06-09T23:35:17.440945Z",
          "shell.execute_reply": "2025-06-09T23:35:17.444559Z"
        },
        "id": "XcN1LBRaeXS9"
      },
      "outputs": [],
      "execution_count": null
    },
    {
      "cell_type": "code",
      "source": [
        "target_class = '2_polyps'\n",
        "source_dir = '/kaggle/input/curated-colon-dataset-for-deep-learning/train/' + target_class\n",
        "dest_dir = '/kaggle/working/augmented/train/' + target_class\n",
        "os.makedirs(dest_dir, exist_ok=True)\n",
        "\n",
        "images = os.listdir(source_dir)\n",
        "for img_name in random.sample(images, 100):  # عدد الصور المعززة\n",
        "    img = load_img(os.path.join(source_dir, img_name))\n",
        "    x = img_to_array(img)\n",
        "    x = x.reshape((1,) + x.shape)\n",
        "    i = 0\n",
        "    for batch in augmentor.flow(x, batch_size=1, save_to_dir=dest_dir, save_prefix='aug', save_format='jpg'):\n",
        "        i += 1\n",
        "        if i >= 5:\n",
        "            break\n"
      ],
      "metadata": {
        "trusted": true,
        "execution": {
          "iopub.status.busy": "2025-06-09T23:36:43.630074Z",
          "iopub.execute_input": "2025-06-09T23:36:43.630545Z",
          "iopub.status.idle": "2025-06-09T23:37:15.001601Z",
          "shell.execute_reply.started": "2025-06-09T23:36:43.630523Z",
          "shell.execute_reply": "2025-06-09T23:37:15.000819Z"
        },
        "id": "BqGxTdoGeXS9"
      },
      "outputs": [],
      "execution_count": null
    },
    {
      "cell_type": "code",
      "source": [
        "import pandas as pd\n",
        "from pathlib import Path\n",
        "\n",
        "# 1️⃣ Define the path to augmented images\n",
        "train_path = Path(\"/kaggle/working/augmented/train/2_polyps\")\n",
        "\n",
        "# 2️⃣ Collect all image file paths\n",
        "filepaths = list(train_path.rglob(\"*.jpg\"))\n",
        "\n",
        "# 3️⃣ Create a DataFrame with file paths and labels\n",
        "train_df = pd.DataFrame({\n",
        "    'filepaths': filepaths\n",
        "})\n",
        "train_df['filepaths'] = train_df['filepaths'].astype(str)  # Convert to string\n",
        "train_df['labels'] = train_df['filepaths'].apply(lambda x: Path(x).parent.name)\n",
        "\n",
        "# 4️⃣ Define ImageDataGenerator (you can customize augmentation here)\n",
        "train_datagen = ImageDataGenerator(\n",
        "    rescale=1./255,\n",
        "    rotation_range=15,\n",
        "    zoom_range=0.1,\n",
        "    width_shift_range=0.1,\n",
        "    height_shift_range=0.1,\n",
        "    horizontal_flip=True\n",
        ")\n",
        "\n",
        "# 5️⃣ Load images using flow_from_dataframe\n",
        "train_gen = train_datagen.flow_from_dataframe(\n",
        "    dataframe=train_df,\n",
        "    x_col='filepaths',\n",
        "    y_col='labels',\n",
        "    target_size=(224, 224),\n",
        "    class_mode='categorical',\n",
        "    batch_size=32,\n",
        "    shuffle=True\n",
        ")\n"
      ],
      "metadata": {
        "trusted": true,
        "execution": {
          "iopub.status.busy": "2025-06-09T23:41:50.907827Z",
          "iopub.execute_input": "2025-06-09T23:41:50.908359Z",
          "iopub.status.idle": "2025-06-09T23:41:50.930028Z",
          "shell.execute_reply.started": "2025-06-09T23:41:50.908337Z",
          "shell.execute_reply": "2025-06-09T23:41:50.929484Z"
        },
        "id": "1CR0ybmTeXS9",
        "outputId": "06f572f3-0e23-487f-936e-e7f792dfc5f3"
      },
      "outputs": [
        {
          "name": "stdout",
          "text": "Found 489 validated image filenames belonging to 1 classes.\n",
          "output_type": "stream"
        }
      ],
      "execution_count": null
    },
    {
      "cell_type": "code",
      "source": [
        "import pandas as pd\n",
        "from pathlib import Path\n",
        "\n",
        "# المسار إلى الصور اللي فيها normal\n",
        "normal_path = Path(\"/kaggle/input/curated-colon-dataset-for-deep-learning/val/0_normal\")\n",
        "\n",
        "# جمع المسارات في DataFrame\n",
        "normal_df = pd.DataFrame({\n",
        "    'filepaths': list(normal_path.rglob(\"*.jpg\"))\n",
        "})\n",
        "normal_df['labels'] = '0_normal'\n"
      ],
      "metadata": {
        "trusted": true,
        "execution": {
          "iopub.status.busy": "2025-06-09T23:44:57.684620Z",
          "iopub.execute_input": "2025-06-09T23:44:57.684865Z",
          "iopub.status.idle": "2025-06-09T23:44:57.989928Z",
          "shell.execute_reply.started": "2025-06-09T23:44:57.684848Z",
          "shell.execute_reply": "2025-06-09T23:44:57.989216Z"
        },
        "id": "9v250X7CeXS-"
      },
      "outputs": [],
      "execution_count": null
    },
    {
      "cell_type": "code",
      "source": [
        "# المسار إلى صور polyps (اللي جهزناهم بالفعل)\n",
        "polyps_path = Path(\"/kaggle/working/augmented/train/2_polyps\")\n",
        "\n",
        "polyps_df = pd.DataFrame({\n",
        "    'filepaths': list(polyps_path.rglob(\"*.jpg\"))\n",
        "})\n",
        "polyps_df['labels'] = '2_polyps'\n"
      ],
      "metadata": {
        "trusted": true,
        "execution": {
          "iopub.status.busy": "2025-06-09T23:45:03.009833Z",
          "iopub.execute_input": "2025-06-09T23:45:03.010523Z",
          "iopub.status.idle": "2025-06-09T23:45:03.018498Z",
          "shell.execute_reply.started": "2025-06-09T23:45:03.010500Z",
          "shell.execute_reply": "2025-06-09T23:45:03.017730Z"
        },
        "id": "lQ2UmzdQeXS-"
      },
      "outputs": [],
      "execution_count": null
    },
    {
      "cell_type": "code",
      "source": [
        "from sklearn.utils import shuffle\n",
        "\n",
        "# دمج الاتنين\n",
        "binary_df = pd.concat([normal_df, polyps_df], ignore_index=True)\n",
        "binary_df = shuffle(binary_df).reset_index(drop=True)\n",
        "\n",
        "# تحويل المسارات إلى strings\n",
        "binary_df['filepaths'] = binary_df['filepaths'].astype(str)\n"
      ],
      "metadata": {
        "trusted": true,
        "execution": {
          "iopub.status.busy": "2025-06-09T23:45:04.891556Z",
          "iopub.execute_input": "2025-06-09T23:45:04.892076Z",
          "iopub.status.idle": "2025-06-09T23:45:04.900441Z",
          "shell.execute_reply.started": "2025-06-09T23:45:04.892054Z",
          "shell.execute_reply": "2025-06-09T23:45:04.899794Z"
        },
        "id": "tE7O5PifeXS-"
      },
      "outputs": [],
      "execution_count": null
    },
    {
      "cell_type": "code",
      "source": [
        "\n",
        "train_datagen = ImageDataGenerator(\n",
        "    rescale=1./255,\n",
        "    validation_split=0.2\n",
        ")\n",
        "\n",
        "train_gen = train_datagen.flow_from_dataframe(\n",
        "    dataframe=binary_df,\n",
        "    x_col='filepaths',\n",
        "    y_col='labels',\n",
        "    target_size=(224, 224),\n",
        "    class_mode='categorical',\n",
        "    batch_size=32,\n",
        "    subset='training',\n",
        "    shuffle=True\n",
        ")\n",
        "\n",
        "val_gen = train_datagen.flow_from_dataframe(\n",
        "    dataframe=binary_df,\n",
        "    x_col='filepaths',\n",
        "    y_col='labels',\n",
        "    target_size=(224, 224),\n",
        "    class_mode='categorical',\n",
        "    batch_size=32,\n",
        "    subset='validation',\n",
        "    shuffle=True\n",
        ")\n"
      ],
      "metadata": {
        "trusted": true,
        "execution": {
          "iopub.status.busy": "2025-06-09T23:45:06.795484Z",
          "iopub.execute_input": "2025-06-09T23:45:06.796038Z",
          "iopub.status.idle": "2025-06-09T23:45:06.841816Z",
          "shell.execute_reply.started": "2025-06-09T23:45:06.796014Z",
          "shell.execute_reply": "2025-06-09T23:45:06.841108Z"
        },
        "id": "fA3NyqLpeXS-",
        "outputId": "e2b0bcad-1c1f-4676-bafc-afa77227d926"
      },
      "outputs": [
        {
          "name": "stdout",
          "text": "Found 792 validated image filenames belonging to 2 classes.\nFound 197 validated image filenames belonging to 2 classes.\n",
          "output_type": "stream"
        }
      ],
      "execution_count": null
    },
    {
      "cell_type": "code",
      "source": [
        "print(binary_df['labels'].value_counts())\n"
      ],
      "metadata": {
        "trusted": true,
        "execution": {
          "iopub.status.busy": "2025-06-09T23:45:10.106073Z",
          "iopub.execute_input": "2025-06-09T23:45:10.106820Z",
          "iopub.status.idle": "2025-06-09T23:45:10.111827Z",
          "shell.execute_reply.started": "2025-06-09T23:45:10.106790Z",
          "shell.execute_reply": "2025-06-09T23:45:10.111283Z"
        },
        "id": "32Qgh5C5eXS_",
        "outputId": "d8b48d40-f77f-4564-f5c3-ba17d8db59de"
      },
      "outputs": [
        {
          "name": "stdout",
          "text": "labels\n0_normal    500\n2_polyps    489\nName: count, dtype: int64\n",
          "output_type": "stream"
        }
      ],
      "execution_count": null
    },
    {
      "cell_type": "code",
      "source": [
        "df = df[df['labels'].isin(['0_normal', '2_polyps'])].reset_index(drop=True)\n",
        "print(df['labels'].value_counts())\n",
        "print(len(df))\n"
      ],
      "metadata": {
        "trusted": true,
        "execution": {
          "iopub.status.busy": "2025-06-09T23:47:11.722000Z",
          "iopub.execute_input": "2025-06-09T23:47:11.722294Z",
          "iopub.status.idle": "2025-06-09T23:47:11.728433Z",
          "shell.execute_reply.started": "2025-06-09T23:47:11.722274Z",
          "shell.execute_reply": "2025-06-09T23:47:11.727464Z"
        },
        "id": "ld60zCAReXS_",
        "outputId": "94a9d877-e061-4917-e36e-b156c3d6e170"
      },
      "outputs": [
        {
          "name": "stdout",
          "text": "Series([], Name: count, dtype: int64)\n0\n",
          "output_type": "stream"
        }
      ],
      "execution_count": null
    },
    {
      "cell_type": "code",
      "source": [
        "from pathlib import Path\n",
        "import pandas as pd\n",
        "\n",
        "# تحديث المسار للمجلد الجديد اللي فيه الصور\n",
        "train_path = Path(\"/kaggle/working/augmented/train/2_polyps\")\n",
        "\n",
        "# إنشاء DataFrame من الصور داخل الفولدر\n",
        "filepaths = list(train_path.rglob(\"*.jpg\"))\n",
        "df = pd.DataFrame({'filepaths': [str(p) for p in filepaths]})\n",
        "df['labels'] = df['filepaths'].apply(lambda x: Path(x).parent.name)\n",
        "df['encoded_labels'] = df['labels'].astype('category').cat.codes\n",
        "\n",
        "print(df['labels'].value_counts())\n"
      ],
      "metadata": {
        "trusted": true,
        "execution": {
          "iopub.status.busy": "2025-06-09T23:49:07.209850Z",
          "iopub.execute_input": "2025-06-09T23:49:07.210119Z",
          "iopub.status.idle": "2025-06-09T23:49:07.223882Z",
          "shell.execute_reply.started": "2025-06-09T23:49:07.210100Z",
          "shell.execute_reply": "2025-06-09T23:49:07.223350Z"
        },
        "id": "GHizF3tKeXS_",
        "outputId": "e1282e6b-f6d2-49a5-a2c8-96a355688564"
      },
      "outputs": [
        {
          "name": "stdout",
          "text": "labels\n2_polyps    489\nName: count, dtype: int64\n",
          "output_type": "stream"
        }
      ],
      "execution_count": null
    },
    {
      "cell_type": "code",
      "source": [
        "print(df['filepaths'].head())\n"
      ],
      "metadata": {
        "trusted": true,
        "execution": {
          "iopub.status.busy": "2025-06-09T23:49:10.416129Z",
          "iopub.execute_input": "2025-06-09T23:49:10.416428Z",
          "iopub.status.idle": "2025-06-09T23:49:10.421005Z",
          "shell.execute_reply.started": "2025-06-09T23:49:10.416409Z",
          "shell.execute_reply": "2025-06-09T23:49:10.420243Z"
        },
        "id": "D98gAAwjeXS_",
        "outputId": "43437b32-eda6-4e4c-93ca-270099978dd3"
      },
      "outputs": [
        {
          "name": "stdout",
          "text": "0    /kaggle/working/augmented/train/2_polyps/aug_0...\n1    /kaggle/working/augmented/train/2_polyps/aug_0...\n2    /kaggle/working/augmented/train/2_polyps/aug_0...\n3    /kaggle/working/augmented/train/2_polyps/aug_0...\n4    /kaggle/working/augmented/train/2_polyps/aug_0...\nName: filepaths, dtype: object\n",
          "output_type": "stream"
        }
      ],
      "execution_count": null
    },
    {
      "cell_type": "code",
      "source": [
        "from pathlib import Path\n",
        "import pandas as pd\n",
        "\n",
        "# المسار الرئيسي لمجلد التدريب\n",
        "base_path = Path(\"/kaggle/input/curated-colon-dataset-for-deep-learning/train\")\n",
        "\n",
        "# جمع كل مسارات الصور داخل كل الكلاسات\n",
        "filepaths = list(base_path.rglob(\"*.jpg\"))\n",
        "\n",
        "# بناء الداتا فريم\n",
        "df = pd.DataFrame({\n",
        "    'filepaths': [str(p) for p in filepaths],\n",
        "    'labels': [p.parent.name for p in filepaths]\n",
        "})\n",
        "\n",
        "# Encode labels\n",
        "df['encoded_labels'] = df['labels'].astype('category').cat.codes\n",
        "\n",
        "# تأكد من التوزيع\n",
        "print(df['labels'].value_counts())\n",
        "df.head()\n"
      ],
      "metadata": {
        "trusted": true,
        "execution": {
          "iopub.status.busy": "2025-06-09T23:50:18.021126Z",
          "iopub.execute_input": "2025-06-09T23:50:18.021686Z",
          "iopub.status.idle": "2025-06-09T23:50:22.267762Z",
          "shell.execute_reply.started": "2025-06-09T23:50:18.021662Z",
          "shell.execute_reply": "2025-06-09T23:50:22.267016Z"
        },
        "id": "fJ3RFJI_eXS_",
        "outputId": "1f444779-f267-4506-c529-8d7bed37574a"
      },
      "outputs": [
        {
          "name": "stdout",
          "text": "labels\n0_normal                800\n2_polyps                800\n3_esophagitis           800\n1_ulcerative_colitis    800\nName: count, dtype: int64\n",
          "output_type": "stream"
        },
        {
          "execution_count": 50,
          "output_type": "execute_result",
          "data": {
            "text/plain": "                                           filepaths    labels  encoded_labels\n0  /kaggle/input/curated-colon-dataset-for-deep-l...  0_normal               0\n1  /kaggle/input/curated-colon-dataset-for-deep-l...  0_normal               0\n2  /kaggle/input/curated-colon-dataset-for-deep-l...  0_normal               0\n3  /kaggle/input/curated-colon-dataset-for-deep-l...  0_normal               0\n4  /kaggle/input/curated-colon-dataset-for-deep-l...  0_normal               0",
            "text/html": "<div>\n<style scoped>\n    .dataframe tbody tr th:only-of-type {\n        vertical-align: middle;\n    }\n\n    .dataframe tbody tr th {\n        vertical-align: top;\n    }\n\n    .dataframe thead th {\n        text-align: right;\n    }\n</style>\n<table border=\"1\" class=\"dataframe\">\n  <thead>\n    <tr style=\"text-align: right;\">\n      <th></th>\n      <th>filepaths</th>\n      <th>labels</th>\n      <th>encoded_labels</th>\n    </tr>\n  </thead>\n  <tbody>\n    <tr>\n      <th>0</th>\n      <td>/kaggle/input/curated-colon-dataset-for-deep-l...</td>\n      <td>0_normal</td>\n      <td>0</td>\n    </tr>\n    <tr>\n      <th>1</th>\n      <td>/kaggle/input/curated-colon-dataset-for-deep-l...</td>\n      <td>0_normal</td>\n      <td>0</td>\n    </tr>\n    <tr>\n      <th>2</th>\n      <td>/kaggle/input/curated-colon-dataset-for-deep-l...</td>\n      <td>0_normal</td>\n      <td>0</td>\n    </tr>\n    <tr>\n      <th>3</th>\n      <td>/kaggle/input/curated-colon-dataset-for-deep-l...</td>\n      <td>0_normal</td>\n      <td>0</td>\n    </tr>\n    <tr>\n      <th>4</th>\n      <td>/kaggle/input/curated-colon-dataset-for-deep-l...</td>\n      <td>0_normal</td>\n      <td>0</td>\n    </tr>\n  </tbody>\n</table>\n</div>"
          },
          "metadata": {}
        }
      ],
      "execution_count": null
    },
    {
      "cell_type": "code",
      "source": [
        "from sklearn.model_selection import train_test_split\n",
        "\n",
        "# Train/Test split بنسبة 60/20/20\n",
        "train_df, temp_df = train_test_split(df, stratify=df['encoded_labels'], test_size=0.4, random_state=42)\n",
        "val_df, test_df = train_test_split(temp_df, stratify=temp_df['encoded_labels'], test_size=0.5, random_state=42)\n",
        "\n",
        "print(f\"Train: {len(train_df)} | Val: {len(val_df)} | Test: {len(test_df)}\")\n"
      ],
      "metadata": {
        "trusted": true,
        "execution": {
          "iopub.status.busy": "2025-06-09T23:50:34.527070Z",
          "iopub.execute_input": "2025-06-09T23:50:34.527354Z",
          "iopub.status.idle": "2025-06-09T23:50:34.540122Z",
          "shell.execute_reply.started": "2025-06-09T23:50:34.527334Z",
          "shell.execute_reply": "2025-06-09T23:50:34.539361Z"
        },
        "id": "zXcSWUiveXS_",
        "outputId": "10d974bd-c01b-4a0e-99b3-6a10e9bd3025"
      },
      "outputs": [
        {
          "name": "stdout",
          "text": "Train: 1920 | Val: 640 | Test: 640\n",
          "output_type": "stream"
        }
      ],
      "execution_count": null
    },
    {
      "cell_type": "code",
      "source": [
        "from tensorflow.keras.preprocessing.image import ImageDataGenerator\n",
        "\n",
        "train_datagen = ImageDataGenerator(rescale=1./255, rotation_range=20, zoom_range=0.2, horizontal_flip=True)\n",
        "val_datagen = ImageDataGenerator(rescale=1./255)\n",
        "\n",
        "train_gen = train_datagen.flow_from_dataframe(train_df, x_col='filepaths', y_col='labels',\n",
        "                                              target_size=(224, 224), class_mode='categorical', batch_size=32, shuffle=True)\n",
        "val_gen = val_datagen.flow_from_dataframe(val_df, x_col='filepaths', y_col='labels',\n",
        "                                          target_size=(224, 224), class_mode='categorical', batch_size=32, shuffle=False)\n",
        "test_gen = val_datagen.flow_from_dataframe(test_df, x_col='filepaths', y_col='labels',\n",
        "                                           target_size=(224, 224), class_mode='categorical', batch_size=32, shuffle=False)\n"
      ],
      "metadata": {
        "trusted": true,
        "execution": {
          "iopub.status.busy": "2025-06-09T23:50:44.804014Z",
          "iopub.execute_input": "2025-06-09T23:50:44.804618Z",
          "iopub.status.idle": "2025-06-09T23:50:44.932798Z",
          "shell.execute_reply.started": "2025-06-09T23:50:44.804591Z",
          "shell.execute_reply": "2025-06-09T23:50:44.932287Z"
        },
        "id": "Yl6xfrkAeXS_",
        "outputId": "40493a0c-f538-49c7-bd7a-925a06db9d69"
      },
      "outputs": [
        {
          "name": "stdout",
          "text": "Found 1920 validated image filenames belonging to 4 classes.\nFound 640 validated image filenames belonging to 4 classes.\nFound 640 validated image filenames belonging to 4 classes.\n",
          "output_type": "stream"
        }
      ],
      "execution_count": null
    },
    {
      "cell_type": "code",
      "source": [
        "from tensorflow.keras.models import Sequential\n",
        "from tensorflow.keras.layers import Conv2D, MaxPooling2D, BatchNormalization, GlobalAveragePooling2D, Dense, Dropout\n",
        "\n",
        "model = Sequential([\n",
        "    Conv2D(32, (3, 3), activation='relu', input_shape=(224, 224, 3)),\n",
        "    BatchNormalization(),\n",
        "    MaxPooling2D(),\n",
        "\n",
        "    Conv2D(64, (3, 3), activation='relu'),\n",
        "    BatchNormalization(),\n",
        "    MaxPooling2D(),\n",
        "\n",
        "    Conv2D(128, (3, 3), activation='relu'),\n",
        "    BatchNormalization(),\n",
        "    MaxPooling2D(),\n",
        "\n",
        "    Conv2D(256, (3, 3), activation='relu'),\n",
        "    BatchNormalization(),\n",
        "    MaxPooling2D(),\n",
        "\n",
        "    GlobalAveragePooling2D(),\n",
        "    Dense(128, activation='relu'),\n",
        "    Dropout(0.5),\n",
        "    Dense(4, activation='softmax')  # عدد الكلاسات = 4\n",
        "])\n",
        "\n",
        "model.compile(optimizer='adam', loss='categorical_crossentropy', metrics=['accuracy'])\n",
        "model.summary()\n"
      ],
      "metadata": {
        "trusted": true,
        "execution": {
          "iopub.status.busy": "2025-06-09T23:51:30.516933Z",
          "iopub.execute_input": "2025-06-09T23:51:30.517451Z",
          "iopub.status.idle": "2025-06-09T23:51:30.616884Z",
          "shell.execute_reply.started": "2025-06-09T23:51:30.517427Z",
          "shell.execute_reply": "2025-06-09T23:51:30.616154Z"
        },
        "id": "tR79EngLeXTA",
        "outputId": "b5145882-dd91-4e02-d482-8f85680d6cc2"
      },
      "outputs": [
        {
          "name": "stderr",
          "text": "/usr/local/lib/python3.11/dist-packages/keras/src/layers/convolutional/base_conv.py:107: UserWarning: Do not pass an `input_shape`/`input_dim` argument to a layer. When using Sequential models, prefer using an `Input(shape)` object as the first layer in the model instead.\n  super().__init__(activity_regularizer=activity_regularizer, **kwargs)\n",
          "output_type": "stream"
        },
        {
          "output_type": "display_data",
          "data": {
            "text/plain": "\u001b[1mModel: \"sequential_1\"\u001b[0m\n",
            "text/html": "<pre style=\"white-space:pre;overflow-x:auto;line-height:normal;font-family:Menlo,'DejaVu Sans Mono',consolas,'Courier New',monospace\"><span style=\"font-weight: bold\">Model: \"sequential_1\"</span>\n</pre>\n"
          },
          "metadata": {}
        },
        {
          "output_type": "display_data",
          "data": {
            "text/plain": "┏━━━━━━━━━━━━━━━━━━━━━━━━━━━━━━━━━━━━━━┳━━━━━━━━━━━━━━━━━━━━━━━━━━━━━┳━━━━━━━━━━━━━━━━━┓\n┃\u001b[1m \u001b[0m\u001b[1mLayer (type)                        \u001b[0m\u001b[1m \u001b[0m┃\u001b[1m \u001b[0m\u001b[1mOutput Shape               \u001b[0m\u001b[1m \u001b[0m┃\u001b[1m \u001b[0m\u001b[1m        Param #\u001b[0m\u001b[1m \u001b[0m┃\n┡━━━━━━━━━━━━━━━━━━━━━━━━━━━━━━━━━━━━━━╇━━━━━━━━━━━━━━━━━━━━━━━━━━━━━╇━━━━━━━━━━━━━━━━━┩\n│ conv2d_4 (\u001b[38;5;33mConv2D\u001b[0m)                    │ (\u001b[38;5;45mNone\u001b[0m, \u001b[38;5;34m222\u001b[0m, \u001b[38;5;34m222\u001b[0m, \u001b[38;5;34m32\u001b[0m)        │             \u001b[38;5;34m896\u001b[0m │\n├──────────────────────────────────────┼─────────────────────────────┼─────────────────┤\n│ batch_normalization_4                │ (\u001b[38;5;45mNone\u001b[0m, \u001b[38;5;34m222\u001b[0m, \u001b[38;5;34m222\u001b[0m, \u001b[38;5;34m32\u001b[0m)        │             \u001b[38;5;34m128\u001b[0m │\n│ (\u001b[38;5;33mBatchNormalization\u001b[0m)                 │                             │                 │\n├──────────────────────────────────────┼─────────────────────────────┼─────────────────┤\n│ max_pooling2d_4 (\u001b[38;5;33mMaxPooling2D\u001b[0m)       │ (\u001b[38;5;45mNone\u001b[0m, \u001b[38;5;34m111\u001b[0m, \u001b[38;5;34m111\u001b[0m, \u001b[38;5;34m32\u001b[0m)        │               \u001b[38;5;34m0\u001b[0m │\n├──────────────────────────────────────┼─────────────────────────────┼─────────────────┤\n│ conv2d_5 (\u001b[38;5;33mConv2D\u001b[0m)                    │ (\u001b[38;5;45mNone\u001b[0m, \u001b[38;5;34m109\u001b[0m, \u001b[38;5;34m109\u001b[0m, \u001b[38;5;34m64\u001b[0m)        │          \u001b[38;5;34m18,496\u001b[0m │\n├──────────────────────────────────────┼─────────────────────────────┼─────────────────┤\n│ batch_normalization_5                │ (\u001b[38;5;45mNone\u001b[0m, \u001b[38;5;34m109\u001b[0m, \u001b[38;5;34m109\u001b[0m, \u001b[38;5;34m64\u001b[0m)        │             \u001b[38;5;34m256\u001b[0m │\n│ (\u001b[38;5;33mBatchNormalization\u001b[0m)                 │                             │                 │\n├──────────────────────────────────────┼─────────────────────────────┼─────────────────┤\n│ max_pooling2d_5 (\u001b[38;5;33mMaxPooling2D\u001b[0m)       │ (\u001b[38;5;45mNone\u001b[0m, \u001b[38;5;34m54\u001b[0m, \u001b[38;5;34m54\u001b[0m, \u001b[38;5;34m64\u001b[0m)          │               \u001b[38;5;34m0\u001b[0m │\n├──────────────────────────────────────┼─────────────────────────────┼─────────────────┤\n│ conv2d_6 (\u001b[38;5;33mConv2D\u001b[0m)                    │ (\u001b[38;5;45mNone\u001b[0m, \u001b[38;5;34m52\u001b[0m, \u001b[38;5;34m52\u001b[0m, \u001b[38;5;34m128\u001b[0m)         │          \u001b[38;5;34m73,856\u001b[0m │\n├──────────────────────────────────────┼─────────────────────────────┼─────────────────┤\n│ batch_normalization_6                │ (\u001b[38;5;45mNone\u001b[0m, \u001b[38;5;34m52\u001b[0m, \u001b[38;5;34m52\u001b[0m, \u001b[38;5;34m128\u001b[0m)         │             \u001b[38;5;34m512\u001b[0m │\n│ (\u001b[38;5;33mBatchNormalization\u001b[0m)                 │                             │                 │\n├──────────────────────────────────────┼─────────────────────────────┼─────────────────┤\n│ max_pooling2d_6 (\u001b[38;5;33mMaxPooling2D\u001b[0m)       │ (\u001b[38;5;45mNone\u001b[0m, \u001b[38;5;34m26\u001b[0m, \u001b[38;5;34m26\u001b[0m, \u001b[38;5;34m128\u001b[0m)         │               \u001b[38;5;34m0\u001b[0m │\n├──────────────────────────────────────┼─────────────────────────────┼─────────────────┤\n│ conv2d_7 (\u001b[38;5;33mConv2D\u001b[0m)                    │ (\u001b[38;5;45mNone\u001b[0m, \u001b[38;5;34m24\u001b[0m, \u001b[38;5;34m24\u001b[0m, \u001b[38;5;34m256\u001b[0m)         │         \u001b[38;5;34m295,168\u001b[0m │\n├──────────────────────────────────────┼─────────────────────────────┼─────────────────┤\n│ batch_normalization_7                │ (\u001b[38;5;45mNone\u001b[0m, \u001b[38;5;34m24\u001b[0m, \u001b[38;5;34m24\u001b[0m, \u001b[38;5;34m256\u001b[0m)         │           \u001b[38;5;34m1,024\u001b[0m │\n│ (\u001b[38;5;33mBatchNormalization\u001b[0m)                 │                             │                 │\n├──────────────────────────────────────┼─────────────────────────────┼─────────────────┤\n│ max_pooling2d_7 (\u001b[38;5;33mMaxPooling2D\u001b[0m)       │ (\u001b[38;5;45mNone\u001b[0m, \u001b[38;5;34m12\u001b[0m, \u001b[38;5;34m12\u001b[0m, \u001b[38;5;34m256\u001b[0m)         │               \u001b[38;5;34m0\u001b[0m │\n├──────────────────────────────────────┼─────────────────────────────┼─────────────────┤\n│ global_average_pooling2d_1           │ (\u001b[38;5;45mNone\u001b[0m, \u001b[38;5;34m256\u001b[0m)                 │               \u001b[38;5;34m0\u001b[0m │\n│ (\u001b[38;5;33mGlobalAveragePooling2D\u001b[0m)             │                             │                 │\n├──────────────────────────────────────┼─────────────────────────────┼─────────────────┤\n│ dense_2 (\u001b[38;5;33mDense\u001b[0m)                      │ (\u001b[38;5;45mNone\u001b[0m, \u001b[38;5;34m128\u001b[0m)                 │          \u001b[38;5;34m32,896\u001b[0m │\n├──────────────────────────────────────┼─────────────────────────────┼─────────────────┤\n│ dropout_1 (\u001b[38;5;33mDropout\u001b[0m)                  │ (\u001b[38;5;45mNone\u001b[0m, \u001b[38;5;34m128\u001b[0m)                 │               \u001b[38;5;34m0\u001b[0m │\n├──────────────────────────────────────┼─────────────────────────────┼─────────────────┤\n│ dense_3 (\u001b[38;5;33mDense\u001b[0m)                      │ (\u001b[38;5;45mNone\u001b[0m, \u001b[38;5;34m4\u001b[0m)                   │             \u001b[38;5;34m516\u001b[0m │\n└──────────────────────────────────────┴─────────────────────────────┴─────────────────┘\n",
            "text/html": "<pre style=\"white-space:pre;overflow-x:auto;line-height:normal;font-family:Menlo,'DejaVu Sans Mono',consolas,'Courier New',monospace\">┏━━━━━━━━━━━━━━━━━━━━━━━━━━━━━━━━━━━━━━┳━━━━━━━━━━━━━━━━━━━━━━━━━━━━━┳━━━━━━━━━━━━━━━━━┓\n┃<span style=\"font-weight: bold\"> Layer (type)                         </span>┃<span style=\"font-weight: bold\"> Output Shape                </span>┃<span style=\"font-weight: bold\">         Param # </span>┃\n┡━━━━━━━━━━━━━━━━━━━━━━━━━━━━━━━━━━━━━━╇━━━━━━━━━━━━━━━━━━━━━━━━━━━━━╇━━━━━━━━━━━━━━━━━┩\n│ conv2d_4 (<span style=\"color: #0087ff; text-decoration-color: #0087ff\">Conv2D</span>)                    │ (<span style=\"color: #00d7ff; text-decoration-color: #00d7ff\">None</span>, <span style=\"color: #00af00; text-decoration-color: #00af00\">222</span>, <span style=\"color: #00af00; text-decoration-color: #00af00\">222</span>, <span style=\"color: #00af00; text-decoration-color: #00af00\">32</span>)        │             <span style=\"color: #00af00; text-decoration-color: #00af00\">896</span> │\n├──────────────────────────────────────┼─────────────────────────────┼─────────────────┤\n│ batch_normalization_4                │ (<span style=\"color: #00d7ff; text-decoration-color: #00d7ff\">None</span>, <span style=\"color: #00af00; text-decoration-color: #00af00\">222</span>, <span style=\"color: #00af00; text-decoration-color: #00af00\">222</span>, <span style=\"color: #00af00; text-decoration-color: #00af00\">32</span>)        │             <span style=\"color: #00af00; text-decoration-color: #00af00\">128</span> │\n│ (<span style=\"color: #0087ff; text-decoration-color: #0087ff\">BatchNormalization</span>)                 │                             │                 │\n├──────────────────────────────────────┼─────────────────────────────┼─────────────────┤\n│ max_pooling2d_4 (<span style=\"color: #0087ff; text-decoration-color: #0087ff\">MaxPooling2D</span>)       │ (<span style=\"color: #00d7ff; text-decoration-color: #00d7ff\">None</span>, <span style=\"color: #00af00; text-decoration-color: #00af00\">111</span>, <span style=\"color: #00af00; text-decoration-color: #00af00\">111</span>, <span style=\"color: #00af00; text-decoration-color: #00af00\">32</span>)        │               <span style=\"color: #00af00; text-decoration-color: #00af00\">0</span> │\n├──────────────────────────────────────┼─────────────────────────────┼─────────────────┤\n│ conv2d_5 (<span style=\"color: #0087ff; text-decoration-color: #0087ff\">Conv2D</span>)                    │ (<span style=\"color: #00d7ff; text-decoration-color: #00d7ff\">None</span>, <span style=\"color: #00af00; text-decoration-color: #00af00\">109</span>, <span style=\"color: #00af00; text-decoration-color: #00af00\">109</span>, <span style=\"color: #00af00; text-decoration-color: #00af00\">64</span>)        │          <span style=\"color: #00af00; text-decoration-color: #00af00\">18,496</span> │\n├──────────────────────────────────────┼─────────────────────────────┼─────────────────┤\n│ batch_normalization_5                │ (<span style=\"color: #00d7ff; text-decoration-color: #00d7ff\">None</span>, <span style=\"color: #00af00; text-decoration-color: #00af00\">109</span>, <span style=\"color: #00af00; text-decoration-color: #00af00\">109</span>, <span style=\"color: #00af00; text-decoration-color: #00af00\">64</span>)        │             <span style=\"color: #00af00; text-decoration-color: #00af00\">256</span> │\n│ (<span style=\"color: #0087ff; text-decoration-color: #0087ff\">BatchNormalization</span>)                 │                             │                 │\n├──────────────────────────────────────┼─────────────────────────────┼─────────────────┤\n│ max_pooling2d_5 (<span style=\"color: #0087ff; text-decoration-color: #0087ff\">MaxPooling2D</span>)       │ (<span style=\"color: #00d7ff; text-decoration-color: #00d7ff\">None</span>, <span style=\"color: #00af00; text-decoration-color: #00af00\">54</span>, <span style=\"color: #00af00; text-decoration-color: #00af00\">54</span>, <span style=\"color: #00af00; text-decoration-color: #00af00\">64</span>)          │               <span style=\"color: #00af00; text-decoration-color: #00af00\">0</span> │\n├──────────────────────────────────────┼─────────────────────────────┼─────────────────┤\n│ conv2d_6 (<span style=\"color: #0087ff; text-decoration-color: #0087ff\">Conv2D</span>)                    │ (<span style=\"color: #00d7ff; text-decoration-color: #00d7ff\">None</span>, <span style=\"color: #00af00; text-decoration-color: #00af00\">52</span>, <span style=\"color: #00af00; text-decoration-color: #00af00\">52</span>, <span style=\"color: #00af00; text-decoration-color: #00af00\">128</span>)         │          <span style=\"color: #00af00; text-decoration-color: #00af00\">73,856</span> │\n├──────────────────────────────────────┼─────────────────────────────┼─────────────────┤\n│ batch_normalization_6                │ (<span style=\"color: #00d7ff; text-decoration-color: #00d7ff\">None</span>, <span style=\"color: #00af00; text-decoration-color: #00af00\">52</span>, <span style=\"color: #00af00; text-decoration-color: #00af00\">52</span>, <span style=\"color: #00af00; text-decoration-color: #00af00\">128</span>)         │             <span style=\"color: #00af00; text-decoration-color: #00af00\">512</span> │\n│ (<span style=\"color: #0087ff; text-decoration-color: #0087ff\">BatchNormalization</span>)                 │                             │                 │\n├──────────────────────────────────────┼─────────────────────────────┼─────────────────┤\n│ max_pooling2d_6 (<span style=\"color: #0087ff; text-decoration-color: #0087ff\">MaxPooling2D</span>)       │ (<span style=\"color: #00d7ff; text-decoration-color: #00d7ff\">None</span>, <span style=\"color: #00af00; text-decoration-color: #00af00\">26</span>, <span style=\"color: #00af00; text-decoration-color: #00af00\">26</span>, <span style=\"color: #00af00; text-decoration-color: #00af00\">128</span>)         │               <span style=\"color: #00af00; text-decoration-color: #00af00\">0</span> │\n├──────────────────────────────────────┼─────────────────────────────┼─────────────────┤\n│ conv2d_7 (<span style=\"color: #0087ff; text-decoration-color: #0087ff\">Conv2D</span>)                    │ (<span style=\"color: #00d7ff; text-decoration-color: #00d7ff\">None</span>, <span style=\"color: #00af00; text-decoration-color: #00af00\">24</span>, <span style=\"color: #00af00; text-decoration-color: #00af00\">24</span>, <span style=\"color: #00af00; text-decoration-color: #00af00\">256</span>)         │         <span style=\"color: #00af00; text-decoration-color: #00af00\">295,168</span> │\n├──────────────────────────────────────┼─────────────────────────────┼─────────────────┤\n│ batch_normalization_7                │ (<span style=\"color: #00d7ff; text-decoration-color: #00d7ff\">None</span>, <span style=\"color: #00af00; text-decoration-color: #00af00\">24</span>, <span style=\"color: #00af00; text-decoration-color: #00af00\">24</span>, <span style=\"color: #00af00; text-decoration-color: #00af00\">256</span>)         │           <span style=\"color: #00af00; text-decoration-color: #00af00\">1,024</span> │\n│ (<span style=\"color: #0087ff; text-decoration-color: #0087ff\">BatchNormalization</span>)                 │                             │                 │\n├──────────────────────────────────────┼─────────────────────────────┼─────────────────┤\n│ max_pooling2d_7 (<span style=\"color: #0087ff; text-decoration-color: #0087ff\">MaxPooling2D</span>)       │ (<span style=\"color: #00d7ff; text-decoration-color: #00d7ff\">None</span>, <span style=\"color: #00af00; text-decoration-color: #00af00\">12</span>, <span style=\"color: #00af00; text-decoration-color: #00af00\">12</span>, <span style=\"color: #00af00; text-decoration-color: #00af00\">256</span>)         │               <span style=\"color: #00af00; text-decoration-color: #00af00\">0</span> │\n├──────────────────────────────────────┼─────────────────────────────┼─────────────────┤\n│ global_average_pooling2d_1           │ (<span style=\"color: #00d7ff; text-decoration-color: #00d7ff\">None</span>, <span style=\"color: #00af00; text-decoration-color: #00af00\">256</span>)                 │               <span style=\"color: #00af00; text-decoration-color: #00af00\">0</span> │\n│ (<span style=\"color: #0087ff; text-decoration-color: #0087ff\">GlobalAveragePooling2D</span>)             │                             │                 │\n├──────────────────────────────────────┼─────────────────────────────┼─────────────────┤\n│ dense_2 (<span style=\"color: #0087ff; text-decoration-color: #0087ff\">Dense</span>)                      │ (<span style=\"color: #00d7ff; text-decoration-color: #00d7ff\">None</span>, <span style=\"color: #00af00; text-decoration-color: #00af00\">128</span>)                 │          <span style=\"color: #00af00; text-decoration-color: #00af00\">32,896</span> │\n├──────────────────────────────────────┼─────────────────────────────┼─────────────────┤\n│ dropout_1 (<span style=\"color: #0087ff; text-decoration-color: #0087ff\">Dropout</span>)                  │ (<span style=\"color: #00d7ff; text-decoration-color: #00d7ff\">None</span>, <span style=\"color: #00af00; text-decoration-color: #00af00\">128</span>)                 │               <span style=\"color: #00af00; text-decoration-color: #00af00\">0</span> │\n├──────────────────────────────────────┼─────────────────────────────┼─────────────────┤\n│ dense_3 (<span style=\"color: #0087ff; text-decoration-color: #0087ff\">Dense</span>)                      │ (<span style=\"color: #00d7ff; text-decoration-color: #00d7ff\">None</span>, <span style=\"color: #00af00; text-decoration-color: #00af00\">4</span>)                   │             <span style=\"color: #00af00; text-decoration-color: #00af00\">516</span> │\n└──────────────────────────────────────┴─────────────────────────────┴─────────────────┘\n</pre>\n"
          },
          "metadata": {}
        },
        {
          "output_type": "display_data",
          "data": {
            "text/plain": "\u001b[1m Total params: \u001b[0m\u001b[38;5;34m423,748\u001b[0m (1.62 MB)\n",
            "text/html": "<pre style=\"white-space:pre;overflow-x:auto;line-height:normal;font-family:Menlo,'DejaVu Sans Mono',consolas,'Courier New',monospace\"><span style=\"font-weight: bold\"> Total params: </span><span style=\"color: #00af00; text-decoration-color: #00af00\">423,748</span> (1.62 MB)\n</pre>\n"
          },
          "metadata": {}
        },
        {
          "output_type": "display_data",
          "data": {
            "text/plain": "\u001b[1m Trainable params: \u001b[0m\u001b[38;5;34m422,788\u001b[0m (1.61 MB)\n",
            "text/html": "<pre style=\"white-space:pre;overflow-x:auto;line-height:normal;font-family:Menlo,'DejaVu Sans Mono',consolas,'Courier New',monospace\"><span style=\"font-weight: bold\"> Trainable params: </span><span style=\"color: #00af00; text-decoration-color: #00af00\">422,788</span> (1.61 MB)\n</pre>\n"
          },
          "metadata": {}
        },
        {
          "output_type": "display_data",
          "data": {
            "text/plain": "\u001b[1m Non-trainable params: \u001b[0m\u001b[38;5;34m960\u001b[0m (3.75 KB)\n",
            "text/html": "<pre style=\"white-space:pre;overflow-x:auto;line-height:normal;font-family:Menlo,'DejaVu Sans Mono',consolas,'Courier New',monospace\"><span style=\"font-weight: bold\"> Non-trainable params: </span><span style=\"color: #00af00; text-decoration-color: #00af00\">960</span> (3.75 KB)\n</pre>\n"
          },
          "metadata": {}
        }
      ],
      "execution_count": null
    },
    {
      "cell_type": "code",
      "source": [
        "from tensorflow.keras.callbacks import ReduceLROnPlateau, EarlyStopping, ModelCheckpoint\n",
        "\n",
        "callbacks = [\n",
        "    ReduceLROnPlateau(monitor='val_loss', patience=3, factor=0.5, verbose=1),\n",
        "    EarlyStopping(monitor='val_loss', patience=6, restore_best_weights=True, verbose=1)\n",
        "]\n",
        "\n",
        "history = model.fit(\n",
        "    train_gen,\n",
        "    validation_data=val_gen,\n",
        "    epochs=30,\n",
        "    callbacks=callbacks\n",
        ")\n"
      ],
      "metadata": {
        "trusted": true,
        "execution": {
          "iopub.status.busy": "2025-06-09T23:51:56.665073Z",
          "iopub.execute_input": "2025-06-09T23:51:56.665395Z",
          "iopub.status.idle": "2025-06-10T00:04:34.475362Z",
          "shell.execute_reply.started": "2025-06-09T23:51:56.665374Z",
          "shell.execute_reply": "2025-06-10T00:04:34.474576Z"
        },
        "id": "kyf3MCtSeXTA",
        "outputId": "dcc20a56-2a3c-4412-f67a-2ffac74b253a"
      },
      "outputs": [
        {
          "name": "stderr",
          "text": "/usr/local/lib/python3.11/dist-packages/keras/src/trainers/data_adapters/py_dataset_adapter.py:121: UserWarning: Your `PyDataset` class should call `super().__init__(**kwargs)` in its constructor. `**kwargs` can include `workers`, `use_multiprocessing`, `max_queue_size`. Do not pass these arguments to `fit()`, as they will be ignored.\n  self._warn_if_super_not_called()\n",
          "output_type": "stream"
        },
        {
          "name": "stdout",
          "text": "Epoch 1/30\n\u001b[1m60/60\u001b[0m \u001b[32m━━━━━━━━━━━━━━━━━━━━\u001b[0m\u001b[37m\u001b[0m \u001b[1m46s\u001b[0m 589ms/step - accuracy: 0.7286 - loss: 0.6846 - val_accuracy: 0.2719 - val_loss: 1.2200 - learning_rate: 0.0010\nEpoch 2/30\n\u001b[1m60/60\u001b[0m \u001b[32m━━━━━━━━━━━━━━━━━━━━\u001b[0m\u001b[37m\u001b[0m \u001b[1m34s\u001b[0m 565ms/step - accuracy: 0.8965 - loss: 0.2641 - val_accuracy: 0.2516 - val_loss: 1.2800 - learning_rate: 0.0010\nEpoch 3/30\n\u001b[1m60/60\u001b[0m \u001b[32m━━━━━━━━━━━━━━━━━━━━\u001b[0m\u001b[37m\u001b[0m \u001b[1m34s\u001b[0m 561ms/step - accuracy: 0.9245 - loss: 0.2409 - val_accuracy: 0.3422 - val_loss: 1.1768 - learning_rate: 0.0010\nEpoch 4/30\n\u001b[1m60/60\u001b[0m \u001b[32m━━━━━━━━━━━━━━━━━━━━\u001b[0m\u001b[37m\u001b[0m \u001b[1m33s\u001b[0m 557ms/step - accuracy: 0.9209 - loss: 0.2175 - val_accuracy: 0.4609 - val_loss: 1.4846 - learning_rate: 0.0010\nEpoch 5/30\n\u001b[1m60/60\u001b[0m \u001b[32m━━━━━━━━━━━━━━━━━━━━\u001b[0m\u001b[37m\u001b[0m \u001b[1m33s\u001b[0m 550ms/step - accuracy: 0.9174 - loss: 0.2404 - val_accuracy: 0.6875 - val_loss: 0.7190 - learning_rate: 0.0010\nEpoch 6/30\n\u001b[1m60/60\u001b[0m \u001b[32m━━━━━━━━━━━━━━━━━━━━\u001b[0m\u001b[37m\u001b[0m \u001b[1m34s\u001b[0m 559ms/step - accuracy: 0.9323 - loss: 0.1999 - val_accuracy: 0.4922 - val_loss: 1.3758 - learning_rate: 0.0010\nEpoch 7/30\n\u001b[1m60/60\u001b[0m \u001b[32m━━━━━━━━━━━━━━━━━━━━\u001b[0m\u001b[37m\u001b[0m \u001b[1m33s\u001b[0m 546ms/step - accuracy: 0.9363 - loss: 0.2013 - val_accuracy: 0.6984 - val_loss: 1.2872 - learning_rate: 0.0010\nEpoch 8/30\n\u001b[1m60/60\u001b[0m \u001b[32m━━━━━━━━━━━━━━━━━━━━\u001b[0m\u001b[37m\u001b[0m \u001b[1m0s\u001b[0m 485ms/step - accuracy: 0.9503 - loss: 0.1559\nEpoch 8: ReduceLROnPlateau reducing learning rate to 0.0005000000237487257.\n\u001b[1m60/60\u001b[0m \u001b[32m━━━━━━━━━━━━━━━━━━━━\u001b[0m\u001b[37m\u001b[0m \u001b[1m33s\u001b[0m 558ms/step - accuracy: 0.9502 - loss: 0.1560 - val_accuracy: 0.7203 - val_loss: 0.7310 - learning_rate: 0.0010\nEpoch 9/30\n\u001b[1m60/60\u001b[0m \u001b[32m━━━━━━━━━━━━━━━━━━━━\u001b[0m\u001b[37m\u001b[0m \u001b[1m34s\u001b[0m 564ms/step - accuracy: 0.9438 - loss: 0.1554 - val_accuracy: 0.8578 - val_loss: 0.5142 - learning_rate: 5.0000e-04\nEpoch 10/30\n\u001b[1m60/60\u001b[0m \u001b[32m━━━━━━━━━━━━━━━━━━━━\u001b[0m\u001b[37m\u001b[0m \u001b[1m34s\u001b[0m 565ms/step - accuracy: 0.9485 - loss: 0.1508 - val_accuracy: 0.8172 - val_loss: 0.9749 - learning_rate: 5.0000e-04\nEpoch 11/30\n\u001b[1m60/60\u001b[0m \u001b[32m━━━━━━━━━━━━━━━━━━━━\u001b[0m\u001b[37m\u001b[0m \u001b[1m33s\u001b[0m 554ms/step - accuracy: 0.9483 - loss: 0.1445 - val_accuracy: 0.8500 - val_loss: 0.5573 - learning_rate: 5.0000e-04\nEpoch 12/30\n\u001b[1m60/60\u001b[0m \u001b[32m━━━━━━━━━━━━━━━━━━━━\u001b[0m\u001b[37m\u001b[0m \u001b[1m33s\u001b[0m 547ms/step - accuracy: 0.9548 - loss: 0.1328 - val_accuracy: 0.8859 - val_loss: 0.3916 - learning_rate: 5.0000e-04\nEpoch 13/30\n\u001b[1m60/60\u001b[0m \u001b[32m━━━━━━━━━━━━━━━━━━━━\u001b[0m\u001b[37m\u001b[0m \u001b[1m34s\u001b[0m 562ms/step - accuracy: 0.9564 - loss: 0.1288 - val_accuracy: 0.9563 - val_loss: 0.1144 - learning_rate: 5.0000e-04\nEpoch 14/30\n\u001b[1m60/60\u001b[0m \u001b[32m━━━━━━━━━━━━━━━━━━━━\u001b[0m\u001b[37m\u001b[0m \u001b[1m33s\u001b[0m 545ms/step - accuracy: 0.9487 - loss: 0.1457 - val_accuracy: 0.8141 - val_loss: 0.7349 - learning_rate: 5.0000e-04\nEpoch 15/30\n\u001b[1m60/60\u001b[0m \u001b[32m━━━━━━━━━━━━━━━━━━━━\u001b[0m\u001b[37m\u001b[0m \u001b[1m35s\u001b[0m 586ms/step - accuracy: 0.9552 - loss: 0.1221 - val_accuracy: 0.9516 - val_loss: 0.1761 - learning_rate: 5.0000e-04\nEpoch 16/30\n\u001b[1m60/60\u001b[0m \u001b[32m━━━━━━━━━━━━━━━━━━━━\u001b[0m\u001b[37m\u001b[0m \u001b[1m35s\u001b[0m 578ms/step - accuracy: 0.9637 - loss: 0.1117 - val_accuracy: 0.9703 - val_loss: 0.0936 - learning_rate: 5.0000e-04\nEpoch 17/30\n\u001b[1m60/60\u001b[0m \u001b[32m━━━━━━━━━━━━━━━━━━━━\u001b[0m\u001b[37m\u001b[0m \u001b[1m35s\u001b[0m 581ms/step - accuracy: 0.9526 - loss: 0.1458 - val_accuracy: 0.9563 - val_loss: 0.1276 - learning_rate: 5.0000e-04\nEpoch 18/30\n\u001b[1m60/60\u001b[0m \u001b[32m━━━━━━━━━━━━━━━━━━━━\u001b[0m\u001b[37m\u001b[0m \u001b[1m34s\u001b[0m 567ms/step - accuracy: 0.9506 - loss: 0.1371 - val_accuracy: 0.8578 - val_loss: 0.6300 - learning_rate: 5.0000e-04\nEpoch 19/30\n\u001b[1m60/60\u001b[0m \u001b[32m━━━━━━━━━━━━━━━━━━━━\u001b[0m\u001b[37m\u001b[0m \u001b[1m0s\u001b[0m 507ms/step - accuracy: 0.9605 - loss: 0.1177\nEpoch 19: ReduceLROnPlateau reducing learning rate to 0.0002500000118743628.\n\u001b[1m60/60\u001b[0m \u001b[32m━━━━━━━━━━━━━━━━━━━━\u001b[0m\u001b[37m\u001b[0m \u001b[1m35s\u001b[0m 577ms/step - accuracy: 0.9606 - loss: 0.1177 - val_accuracy: 0.8938 - val_loss: 0.3172 - learning_rate: 5.0000e-04\nEpoch 20/30\n\u001b[1m60/60\u001b[0m \u001b[32m━━━━━━━━━━━━━━━━━━━━\u001b[0m\u001b[37m\u001b[0m \u001b[1m35s\u001b[0m 587ms/step - accuracy: 0.9701 - loss: 0.0994 - val_accuracy: 0.6187 - val_loss: 1.2581 - learning_rate: 2.5000e-04\nEpoch 21/30\n\u001b[1m60/60\u001b[0m \u001b[32m━━━━━━━━━━━━━━━━━━━━\u001b[0m\u001b[37m\u001b[0m \u001b[1m34s\u001b[0m 569ms/step - accuracy: 0.9700 - loss: 0.1015 - val_accuracy: 0.9375 - val_loss: 0.1568 - learning_rate: 2.5000e-04\nEpoch 22/30\n\u001b[1m60/60\u001b[0m \u001b[32m━━━━━━━━━━━━━━━━━━━━\u001b[0m\u001b[37m\u001b[0m \u001b[1m0s\u001b[0m 484ms/step - accuracy: 0.9733 - loss: 0.0921\nEpoch 22: ReduceLROnPlateau reducing learning rate to 0.0001250000059371814.\n\u001b[1m60/60\u001b[0m \u001b[32m━━━━━━━━━━━━━━━━━━━━\u001b[0m\u001b[37m\u001b[0m \u001b[1m33s\u001b[0m 556ms/step - accuracy: 0.9732 - loss: 0.0923 - val_accuracy: 0.9109 - val_loss: 0.2379 - learning_rate: 2.5000e-04\nEpoch 22: early stopping\nRestoring model weights from the end of the best epoch: 16.\n",
          "output_type": "stream"
        }
      ],
      "execution_count": null
    },
    {
      "cell_type": "code",
      "source": [
        "from sklearn.metrics import classification_report, confusion_matrix\n",
        "import seaborn as sns\n",
        "import matplotlib.pyplot as plt\n",
        "import numpy as np\n",
        "\n",
        "# Step 1: Predict on test set\n",
        "y_true = test_generator.classes\n",
        "y_pred_probs = model.predict(test_generator)\n",
        "y_pred = np.argmax(y_pred_probs, axis=1)\n",
        "\n",
        "# Step 2: Generate report\n",
        "labels_names = list(test_generator.class_indices.keys())\n",
        "\n",
        "print(\"Classification Report:\\n\")\n",
        "print(classification_report(y_true, y_pred, target_names=labels_names))\n",
        "\n",
        "# Step 3: Confusion Matrix\n",
        "cm = confusion_matrix(y_true, y_pred)\n",
        "plt.figure(figsize=(8,6))\n",
        "sns.heatmap(cm, annot=True, fmt='d', xticklabels=labels_names, yticklabels=labels_names, cmap='Blues')\n",
        "plt.xlabel(\"Predicted\")\n",
        "plt.ylabel(\"Actual\")\n",
        "plt.title(\"Confusion Matrix\")\n",
        "plt.show()\n"
      ],
      "metadata": {
        "trusted": true,
        "execution": {
          "iopub.status.busy": "2025-06-10T00:12:30.160810Z",
          "iopub.execute_input": "2025-06-10T00:12:30.161354Z",
          "iopub.status.idle": "2025-06-10T00:12:43.892823Z",
          "shell.execute_reply.started": "2025-06-10T00:12:30.161329Z",
          "shell.execute_reply": "2025-06-10T00:12:43.892014Z"
        },
        "id": "DGDyqi5SeXTA",
        "outputId": "09d3c4a9-aa37-4fa0-e8e3-f3cc3f69eb11"
      },
      "outputs": [
        {
          "name": "stdout",
          "text": "\u001b[1m25/25\u001b[0m \u001b[32m━━━━━━━━━━━━━━━━━━━━\u001b[0m\u001b[37m\u001b[0m \u001b[1m13s\u001b[0m 504ms/step\nClassification Report:\n\n                      precision    recall  f1-score   support\n\n            0_normal       0.90      1.00      0.95       200\n1_ulcerative_colitis       0.56      0.92      0.69       200\n            2_polyps       0.88      0.21      0.34       200\n       3_esophagitis       0.99      1.00      1.00       200\n\n            accuracy                           0.78       800\n           macro avg       0.83      0.78      0.74       800\n        weighted avg       0.83      0.78      0.74       800\n\n",
          "output_type": "stream"
        },
        {
          "output_type": "display_data",
          "data": {
            "text/plain": "<Figure size 800x600 with 2 Axes>",
            "image/png": "[encoded data removed]"
          },
          "metadata": {}
        }
      ],
      "execution_count": null
    },
    {
      "cell_type": "code",
      "source": [
        "from tensorflow.keras.preprocessing.image import ImageDataGenerator\n",
        "\n",
        "train_datagen = ImageDataGenerator(rescale=1./255)\n",
        "val_datagen   = ImageDataGenerator(rescale=1./255)\n",
        "\n",
        "train_generator = train_datagen.flow_from_dataframe(\n",
        "    dataframe=train_df,\n",
        "    x_col='filepaths',\n",
        "    y_col='labels',\n",
        "    target_size=(224, 224),\n",
        "    batch_size=32,\n",
        "    class_mode='categorical'  # لأننا هنستخدم categorical_crossentropy\n",
        ")\n",
        "\n",
        "val_generator = val_datagen.flow_from_dataframe(\n",
        "    dataframe=val_df,\n",
        "    x_col='filepaths',\n",
        "    y_col='labels',\n",
        "    target_size=(224, 224),\n",
        "    batch_size=32,\n",
        "    class_mode='categorical'\n",
        ")\n"
      ],
      "metadata": {
        "trusted": true,
        "execution": {
          "iopub.status.busy": "2025-06-10T00:22:34.126193Z",
          "iopub.execute_input": "2025-06-10T00:22:34.126851Z",
          "iopub.status.idle": "2025-06-10T00:22:37.678940Z",
          "shell.execute_reply.started": "2025-06-10T00:22:34.126825Z",
          "shell.execute_reply": "2025-06-10T00:22:37.678229Z"
        },
        "id": "mNpPoWZeeXTA",
        "outputId": "0b69e4a8-cf20-4c30-9717-2b0e05131ffa"
      },
      "outputs": [
        {
          "name": "stdout",
          "text": "Found 1920 validated image filenames belonging to 4 classes.\nFound 640 validated image filenames belonging to 4 classes.\n",
          "output_type": "stream"
        }
      ],
      "execution_count": null
    },
    {
      "cell_type": "code",
      "source": [
        "from tensorflow.keras.models import Sequential\n",
        "from tensorflow.keras.layers import Conv2D, MaxPooling2D, BatchNormalization, GlobalAveragePooling2D, Dense, Dropout\n",
        "from tensorflow.keras.optimizers import Adam\n",
        "\n",
        "model = Sequential([\n",
        "    Conv2D(32, (3, 3), activation='relu', input_shape=(224, 224, 3)),\n",
        "    BatchNormalization(),\n",
        "    MaxPooling2D(),\n",
        "\n",
        "    Conv2D(64, (3, 3), activation='relu'),\n",
        "    BatchNormalization(),\n",
        "    MaxPooling2D(),\n",
        "\n",
        "    Conv2D(128, (3, 3), activation='relu'),\n",
        "    BatchNormalization(),\n",
        "    MaxPooling2D(),\n",
        "\n",
        "    Conv2D(256, (3, 3), activation='relu'),\n",
        "    BatchNormalization(),\n",
        "    MaxPooling2D(),\n",
        "\n",
        "    GlobalAveragePooling2D(),\n",
        "    Dense(128, activation='relu'),\n",
        "    Dropout(0.5),\n",
        "    Dense(4, activation='softmax')  # 4 classes\n",
        "])\n"
      ],
      "metadata": {
        "trusted": true,
        "execution": {
          "iopub.status.busy": "2025-06-10T00:22:46.295370Z",
          "iopub.execute_input": "2025-06-10T00:22:46.296033Z",
          "iopub.status.idle": "2025-06-10T00:22:46.388317Z",
          "shell.execute_reply.started": "2025-06-10T00:22:46.296002Z",
          "shell.execute_reply": "2025-06-10T00:22:46.387568Z"
        },
        "id": "-eBcXEdTeXTA",
        "outputId": "555ff614-b297-45aa-eb27-06f5537dd723"
      },
      "outputs": [
        {
          "name": "stderr",
          "text": "/usr/local/lib/python3.11/dist-packages/keras/src/layers/convolutional/base_conv.py:107: UserWarning: Do not pass an `input_shape`/`input_dim` argument to a layer. When using Sequential models, prefer using an `Input(shape)` object as the first layer in the model instead.\n  super().__init__(activity_regularizer=activity_regularizer, **kwargs)\n",
          "output_type": "stream"
        }
      ],
      "execution_count": null
    },
    {
      "cell_type": "code",
      "source": [
        "model.compile(\n",
        "    optimizer=Adam(learning_rate=1e-4),\n",
        "    loss='categorical_crossentropy',\n",
        "    metrics=['accuracy']\n",
        ")\n"
      ],
      "metadata": {
        "trusted": true,
        "execution": {
          "iopub.status.busy": "2025-06-10T00:23:00.079543Z",
          "iopub.execute_input": "2025-06-10T00:23:00.079818Z",
          "iopub.status.idle": "2025-06-10T00:23:00.088846Z",
          "shell.execute_reply.started": "2025-06-10T00:23:00.079798Z",
          "shell.execute_reply": "2025-06-10T00:23:00.088197Z"
        },
        "id": "7Hpl6ksyeXTA"
      },
      "outputs": [],
      "execution_count": null
    },
    {
      "cell_type": "code",
      "source": [
        "from tensorflow.keras.callbacks import EarlyStopping, ReduceLROnPlateau\n",
        "\n",
        "early_stop = EarlyStopping(patience=5, restore_best_weights=True, verbose=1)\n",
        "reduce_lr = ReduceLROnPlateau(patience=2, factor=0.5, verbose=1)\n",
        "\n",
        "history = model.fit(\n",
        "    train_generator,\n",
        "    validation_data=val_generator,\n",
        "    epochs=30,\n",
        "    callbacks=[early_stop, reduce_lr]\n",
        ")\n"
      ],
      "metadata": {
        "trusted": true,
        "execution": {
          "iopub.status.busy": "2025-06-10T00:23:06.848454Z",
          "iopub.execute_input": "2025-06-10T00:23:06.849075Z",
          "iopub.status.idle": "2025-06-10T00:31:41.309122Z",
          "shell.execute_reply.started": "2025-06-10T00:23:06.849055Z",
          "shell.execute_reply": "2025-06-10T00:31:41.308586Z"
        },
        "id": "dkKQ2CeoeXTA",
        "outputId": "f16a2256-1cd3-4339-a1d9-913b22939be8"
      },
      "outputs": [
        {
          "name": "stderr",
          "text": "/usr/local/lib/python3.11/dist-packages/keras/src/trainers/data_adapters/py_dataset_adapter.py:121: UserWarning: Your `PyDataset` class should call `super().__init__(**kwargs)` in its constructor. `**kwargs` can include `workers`, `use_multiprocessing`, `max_queue_size`. Do not pass these arguments to `fit()`, as they will be ignored.\n  self._warn_if_super_not_called()\n",
          "output_type": "stream"
        },
        {
          "name": "stdout",
          "text": "Epoch 1/30\n\u001b[1m60/60\u001b[0m \u001b[32m━━━━━━━━━━━━━━━━━━━━\u001b[0m\u001b[37m\u001b[0m \u001b[1m25s\u001b[0m 299ms/step - accuracy: 0.6685 - loss: 0.8448 - val_accuracy: 0.2500 - val_loss: 1.4135 - learning_rate: 1.0000e-04\nEpoch 2/30\n\u001b[1m60/60\u001b[0m \u001b[32m━━━━━━━━━━━━━━━━━━━━\u001b[0m\u001b[37m\u001b[0m \u001b[1m17s\u001b[0m 276ms/step - accuracy: 0.8769 - loss: 0.3468 - val_accuracy: 0.2500 - val_loss: 1.5688 - learning_rate: 1.0000e-04\nEpoch 3/30\n\u001b[1m60/60\u001b[0m \u001b[32m━━━━━━━━━━━━━━━━━━━━\u001b[0m\u001b[37m\u001b[0m \u001b[1m0s\u001b[0m 208ms/step - accuracy: 0.8922 - loss: 0.2915\nEpoch 3: ReduceLROnPlateau reducing learning rate to 4.999999873689376e-05.\n\u001b[1m60/60\u001b[0m \u001b[32m━━━━━━━━━━━━━━━━━━━━\u001b[0m\u001b[37m\u001b[0m \u001b[1m17s\u001b[0m 278ms/step - accuracy: 0.8922 - loss: 0.2915 - val_accuracy: 0.2500 - val_loss: 1.7162 - learning_rate: 1.0000e-04\nEpoch 4/30\n\u001b[1m60/60\u001b[0m \u001b[32m━━━━━━━━━━━━━━━━━━━━\u001b[0m\u001b[37m\u001b[0m \u001b[1m17s\u001b[0m 279ms/step - accuracy: 0.9143 - loss: 0.2463 - val_accuracy: 0.2500 - val_loss: 1.6139 - learning_rate: 5.0000e-05\nEpoch 5/30\n\u001b[1m60/60\u001b[0m \u001b[32m━━━━━━━━━━━━━━━━━━━━\u001b[0m\u001b[37m\u001b[0m \u001b[1m0s\u001b[0m 212ms/step - accuracy: 0.9325 - loss: 0.1939\nEpoch 5: ReduceLROnPlateau reducing learning rate to 2.499999936844688e-05.\n\u001b[1m60/60\u001b[0m \u001b[32m━━━━━━━━━━━━━━━━━━━━\u001b[0m\u001b[37m\u001b[0m \u001b[1m17s\u001b[0m 282ms/step - accuracy: 0.9324 - loss: 0.1941 - val_accuracy: 0.2891 - val_loss: 1.4350 - learning_rate: 5.0000e-05\nEpoch 6/30\n\u001b[1m60/60\u001b[0m \u001b[32m━━━━━━━━━━━━━━━━━━━━\u001b[0m\u001b[37m\u001b[0m \u001b[1m17s\u001b[0m 281ms/step - accuracy: 0.9294 - loss: 0.2029 - val_accuracy: 0.5625 - val_loss: 1.0874 - learning_rate: 2.5000e-05\nEpoch 7/30\n\u001b[1m60/60\u001b[0m \u001b[32m━━━━━━━━━━━━━━━━━━━━\u001b[0m\u001b[37m\u001b[0m \u001b[1m17s\u001b[0m 279ms/step - accuracy: 0.9547 - loss: 0.1527 - val_accuracy: 0.6594 - val_loss: 0.8420 - learning_rate: 2.5000e-05\nEpoch 8/30\n\u001b[1m60/60\u001b[0m \u001b[32m━━━━━━━━━━━━━━━━━━━━\u001b[0m\u001b[37m\u001b[0m \u001b[1m17s\u001b[0m 278ms/step - accuracy: 0.9428 - loss: 0.1590 - val_accuracy: 0.7297 - val_loss: 0.6843 - learning_rate: 2.5000e-05\nEpoch 9/30\n\u001b[1m60/60\u001b[0m \u001b[32m━━━━━━━━━━━━━━━━━━━━\u001b[0m\u001b[37m\u001b[0m \u001b[1m17s\u001b[0m 279ms/step - accuracy: 0.9510 - loss: 0.1554 - val_accuracy: 0.8078 - val_loss: 0.4781 - learning_rate: 2.5000e-05\nEpoch 10/30\n\u001b[1m60/60\u001b[0m \u001b[32m━━━━━━━━━━━━━━━━━━━━\u001b[0m\u001b[37m\u001b[0m \u001b[1m17s\u001b[0m 281ms/step - accuracy: 0.9436 - loss: 0.1649 - val_accuracy: 0.8813 - val_loss: 0.3223 - learning_rate: 2.5000e-05\nEpoch 11/30\n\u001b[1m60/60\u001b[0m \u001b[32m━━━━━━━━━━━━━━━━━━━━\u001b[0m\u001b[37m\u001b[0m \u001b[1m17s\u001b[0m 277ms/step - accuracy: 0.9580 - loss: 0.1370 - val_accuracy: 0.9234 - val_loss: 0.1963 - learning_rate: 2.5000e-05\nEpoch 12/30\n\u001b[1m60/60\u001b[0m \u001b[32m━━━━━━━━━━━━━━━━━━━━\u001b[0m\u001b[37m\u001b[0m \u001b[1m17s\u001b[0m 279ms/step - accuracy: 0.9607 - loss: 0.1561 - val_accuracy: 0.9422 - val_loss: 0.1512 - learning_rate: 2.5000e-05\nEpoch 13/30\n\u001b[1m60/60\u001b[0m \u001b[32m━━━━━━━━━━━━━━━━━━━━\u001b[0m\u001b[37m\u001b[0m \u001b[1m17s\u001b[0m 280ms/step - accuracy: 0.9673 - loss: 0.1167 - val_accuracy: 0.9609 - val_loss: 0.1190 - learning_rate: 2.5000e-05\nEpoch 14/30\n\u001b[1m60/60\u001b[0m \u001b[32m━━━━━━━━━━━━━━━━━━━━\u001b[0m\u001b[37m\u001b[0m \u001b[1m17s\u001b[0m 284ms/step - accuracy: 0.9651 - loss: 0.1151 - val_accuracy: 0.9578 - val_loss: 0.1040 - learning_rate: 2.5000e-05\nEpoch 15/30\n\u001b[1m60/60\u001b[0m \u001b[32m━━━━━━━━━━━━━━━━━━━━\u001b[0m\u001b[37m\u001b[0m \u001b[1m17s\u001b[0m 276ms/step - accuracy: 0.9602 - loss: 0.1188 - val_accuracy: 0.9688 - val_loss: 0.0912 - learning_rate: 2.5000e-05\nEpoch 16/30\n\u001b[1m60/60\u001b[0m \u001b[32m━━━━━━━━━━━━━━━━━━━━\u001b[0m\u001b[37m\u001b[0m \u001b[1m17s\u001b[0m 277ms/step - accuracy: 0.9640 - loss: 0.1159 - val_accuracy: 0.9719 - val_loss: 0.0846 - learning_rate: 2.5000e-05\nEpoch 17/30\n\u001b[1m60/60\u001b[0m \u001b[32m━━━━━━━━━━━━━━━━━━━━\u001b[0m\u001b[37m\u001b[0m \u001b[1m16s\u001b[0m 274ms/step - accuracy: 0.9712 - loss: 0.1065 - val_accuracy: 0.9781 - val_loss: 0.0718 - learning_rate: 2.5000e-05\nEpoch 18/30\n\u001b[1m60/60\u001b[0m \u001b[32m━━━━━━━━━━━━━━━━━━━━\u001b[0m\u001b[37m\u001b[0m \u001b[1m17s\u001b[0m 285ms/step - accuracy: 0.9691 - loss: 0.1024 - val_accuracy: 0.9719 - val_loss: 0.0777 - learning_rate: 2.5000e-05\nEpoch 19/30\n\u001b[1m60/60\u001b[0m \u001b[32m━━━━━━━━━━━━━━━━━━━━\u001b[0m\u001b[37m\u001b[0m \u001b[1m0s\u001b[0m 217ms/step - accuracy: 0.9697 - loss: 0.1017\nEpoch 19: ReduceLROnPlateau reducing learning rate to 1.249999968422344e-05.\n\u001b[1m60/60\u001b[0m \u001b[32m━━━━━━━━━━━━━━━━━━━━\u001b[0m\u001b[37m\u001b[0m \u001b[1m17s\u001b[0m 290ms/step - accuracy: 0.9697 - loss: 0.1017 - val_accuracy: 0.9672 - val_loss: 0.0805 - learning_rate: 2.5000e-05\nEpoch 20/30\n\u001b[1m60/60\u001b[0m \u001b[32m━━━━━━━━━━━━━━━━━━━━\u001b[0m\u001b[37m\u001b[0m \u001b[1m17s\u001b[0m 282ms/step - accuracy: 0.9693 - loss: 0.0896 - val_accuracy: 0.9797 - val_loss: 0.0651 - learning_rate: 1.2500e-05\nEpoch 21/30\n\u001b[1m60/60\u001b[0m \u001b[32m━━━━━━━━━━━━━━━━━━━━\u001b[0m\u001b[37m\u001b[0m \u001b[1m17s\u001b[0m 283ms/step - accuracy: 0.9708 - loss: 0.0938 - val_accuracy: 0.9781 - val_loss: 0.0661 - learning_rate: 1.2500e-05\nEpoch 22/30\n\u001b[1m60/60\u001b[0m \u001b[32m━━━━━━━━━━━━━━━━━━━━\u001b[0m\u001b[37m\u001b[0m \u001b[1m17s\u001b[0m 283ms/step - accuracy: 0.9792 - loss: 0.0907 - val_accuracy: 0.9797 - val_loss: 0.0591 - learning_rate: 1.2500e-05\nEpoch 23/30\n\u001b[1m60/60\u001b[0m \u001b[32m━━━━━━━━━━━━━━━━━━━━\u001b[0m\u001b[37m\u001b[0m \u001b[1m17s\u001b[0m 287ms/step - accuracy: 0.9806 - loss: 0.0766 - val_accuracy: 0.9812 - val_loss: 0.0577 - learning_rate: 1.2500e-05\nEpoch 24/30\n\u001b[1m60/60\u001b[0m \u001b[32m━━━━━━━━━━━━━━━━━━━━\u001b[0m\u001b[37m\u001b[0m \u001b[1m17s\u001b[0m 277ms/step - accuracy: 0.9792 - loss: 0.0806 - val_accuracy: 0.9766 - val_loss: 0.0627 - learning_rate: 1.2500e-05\nEpoch 25/30\n\u001b[1m60/60\u001b[0m \u001b[32m━━━━━━━━━━━━━━━━━━━━\u001b[0m\u001b[37m\u001b[0m \u001b[1m0s\u001b[0m 215ms/step - accuracy: 0.9769 - loss: 0.0822\nEpoch 25: ReduceLROnPlateau reducing learning rate to 6.24999984211172e-06.\n\u001b[1m60/60\u001b[0m \u001b[32m━━━━━━━━━━━━━━━━━━━━\u001b[0m\u001b[37m\u001b[0m \u001b[1m17s\u001b[0m 285ms/step - accuracy: 0.9768 - loss: 0.0822 - val_accuracy: 0.9797 - val_loss: 0.0583 - learning_rate: 1.2500e-05\nEpoch 26/30\n\u001b[1m60/60\u001b[0m \u001b[32m━━━━━━━━━━━━━━━━━━━━\u001b[0m\u001b[37m\u001b[0m \u001b[1m17s\u001b[0m 282ms/step - accuracy: 0.9775 - loss: 0.0811 - val_accuracy: 0.9812 - val_loss: 0.0572 - learning_rate: 6.2500e-06\nEpoch 27/30\n\u001b[1m60/60\u001b[0m \u001b[32m━━━━━━━━━━━━━━━━━━━━\u001b[0m\u001b[37m\u001b[0m \u001b[1m17s\u001b[0m 279ms/step - accuracy: 0.9802 - loss: 0.0935 - val_accuracy: 0.9812 - val_loss: 0.0588 - learning_rate: 6.2500e-06\nEpoch 28/30\n\u001b[1m60/60\u001b[0m \u001b[32m━━━━━━━━━━━━━━━━━━━━\u001b[0m\u001b[37m\u001b[0m \u001b[1m17s\u001b[0m 289ms/step - accuracy: 0.9745 - loss: 0.0960 - val_accuracy: 0.9812 - val_loss: 0.0540 - learning_rate: 6.2500e-06\nEpoch 29/30\n\u001b[1m60/60\u001b[0m \u001b[32m━━━━━━━━━━━━━━━━━━━━\u001b[0m\u001b[37m\u001b[0m \u001b[1m17s\u001b[0m 280ms/step - accuracy: 0.9809 - loss: 0.0769 - val_accuracy: 0.9812 - val_loss: 0.0541 - learning_rate: 6.2500e-06\nEpoch 30/30\n\u001b[1m60/60\u001b[0m \u001b[32m━━━━━━━━━━━━━━━━━━━━\u001b[0m\u001b[37m\u001b[0m \u001b[1m0s\u001b[0m 211ms/step - accuracy: 0.9766 - loss: 0.0834\nEpoch 30: ReduceLROnPlateau reducing learning rate to 3.12499992105586e-06.\n\u001b[1m60/60\u001b[0m \u001b[32m━━━━━━━━━━━━━━━━━━━━\u001b[0m\u001b[37m\u001b[0m \u001b[1m17s\u001b[0m 280ms/step - accuracy: 0.9766 - loss: 0.0834 - val_accuracy: 0.9797 - val_loss: 0.0549 - learning_rate: 6.2500e-06\nRestoring model weights from the end of the best epoch: 28.\n",
          "output_type": "stream"
        }
      ],
      "execution_count": null
    },
    {
      "cell_type": "code",
      "source": [
        "test_datagen = ImageDataGenerator(rescale=1./255)\n",
        "\n",
        "test_generator = test_datagen.flow_from_dataframe(\n",
        "    dataframe=test_df,\n",
        "    x_col='filepaths',\n",
        "    y_col='labels',\n",
        "    target_size=(224, 224),\n",
        "    batch_size=32,\n",
        "    class_mode='categorical',\n",
        "    shuffle=False\n",
        ")\n",
        "\n",
        "# Evaluate\n",
        "loss, acc = model.evaluate(test_generator)\n",
        "print(f\"✅ Test Accuracy: {acc:.4f} | Test Loss: {loss:.4f}\")\n"
      ],
      "metadata": {
        "trusted": true,
        "execution": {
          "iopub.status.busy": "2025-06-10T00:36:10.164231Z",
          "iopub.execute_input": "2025-06-10T00:36:10.164571Z",
          "iopub.status.idle": "2025-06-10T00:36:15.875441Z",
          "shell.execute_reply.started": "2025-06-10T00:36:10.164550Z",
          "shell.execute_reply": "2025-06-10T00:36:15.874698Z"
        },
        "id": "Q0iuHfTHeXTB",
        "outputId": "232d8575-2ee7-4aae-8733-713f735db588"
      },
      "outputs": [
        {
          "name": "stdout",
          "text": "Found 640 validated image filenames belonging to 4 classes.\n",
          "output_type": "stream"
        },
        {
          "name": "stderr",
          "text": "/usr/local/lib/python3.11/dist-packages/keras/src/trainers/data_adapters/py_dataset_adapter.py:121: UserWarning: Your `PyDataset` class should call `super().__init__(**kwargs)` in its constructor. `**kwargs` can include `workers`, `use_multiprocessing`, `max_queue_size`. Do not pass these arguments to `fit()`, as they will be ignored.\n  self._warn_if_super_not_called()\n",
          "output_type": "stream"
        },
        {
          "name": "stdout",
          "text": "\u001b[1m20/20\u001b[0m \u001b[32m━━━━━━━━━━━━━━━━━━━━\u001b[0m\u001b[37m\u001b[0m \u001b[1m4s\u001b[0m 216ms/step - accuracy: 0.9868 - loss: 0.0591\n✅ Test Accuracy: 0.9812 | Test Loss: 0.0762\n",
          "output_type": "stream"
        }
      ],
      "execution_count": null
    },
    {
      "cell_type": "code",
      "source": [
        "from sklearn.metrics import classification_report, confusion_matrix\n",
        "import numpy as np\n",
        "import seaborn as sns\n",
        "import matplotlib.pyplot as plt\n",
        "\n",
        "# True labels\n",
        "y_true = test_generator.classes\n",
        "\n",
        "# Predictions\n",
        "y_pred_probs = model.predict(test_generator)\n",
        "y_pred = np.argmax(y_pred_probs, axis=1)\n",
        "\n",
        "# Classification Report\n",
        "print(classification_report(y_true, y_pred, target_names=test_generator.class_indices.keys()))\n",
        "\n",
        "# Confusion Matrix\n",
        "cm = confusion_matrix(y_true, y_pred)\n",
        "plt.figure(figsize=(6,5))\n",
        "sns.heatmap(cm, annot=True, fmt='d', cmap='Blues',\n",
        "            xticklabels=test_generator.class_indices.keys(),\n",
        "            yticklabels=test_generator.class_indices.keys())\n",
        "plt.xlabel(\"Predicted\")\n",
        "plt.ylabel(\"Actual\")\n",
        "plt.title(\"Confusion Matrix\")\n",
        "plt.show()\n"
      ],
      "metadata": {
        "trusted": true,
        "execution": {
          "iopub.status.busy": "2025-06-10T00:36:42.007451Z",
          "iopub.execute_input": "2025-06-10T00:36:42.007727Z",
          "iopub.status.idle": "2025-06-10T00:36:47.202222Z",
          "shell.execute_reply.started": "2025-06-10T00:36:42.007707Z",
          "shell.execute_reply": "2025-06-10T00:36:47.201485Z"
        },
        "id": "bkSfNPSneXTB",
        "outputId": "79d0d9ca-46e7-4ca8-fedb-391d9d5e5f0d"
      },
      "outputs": [
        {
          "name": "stdout",
          "text": "\u001b[1m20/20\u001b[0m \u001b[32m━━━━━━━━━━━━━━━━━━━━\u001b[0m\u001b[37m\u001b[0m \u001b[1m5s\u001b[0m 202ms/step\n                      precision    recall  f1-score   support\n\n            0_normal       0.99      0.99      0.99       160\n1_ulcerative_colitis       0.96      0.98      0.97       160\n            2_polyps       0.99      0.95      0.97       160\n       3_esophagitis       0.99      1.00      0.99       160\n\n            accuracy                           0.98       640\n           macro avg       0.98      0.98      0.98       640\n        weighted avg       0.98      0.98      0.98       640\n\n",
          "output_type": "stream"
        },
        {
          "output_type": "display_data",
          "data": {
            "text/plain": "<Figure size 600x500 with 2 Axes>",
            "image/png": "[encoded data removed]"
          },
          "metadata": {}
        }
      ],
      "execution_count": null
    },
    {
      "cell_type": "code",
      "source": [
        "model.save(\"colon_disease_classifier.h5\")\n"
      ],
      "metadata": {
        "trusted": true,
        "execution": {
          "iopub.status.busy": "2025-06-10T00:39:40.688603Z",
          "iopub.execute_input": "2025-06-10T00:39:40.688896Z",
          "iopub.status.idle": "2025-06-10T00:39:40.758922Z",
          "shell.execute_reply.started": "2025-06-10T00:39:40.688876Z",
          "shell.execute_reply": "2025-06-10T00:39:40.758222Z"
        },
        "id": "ysty7aVUeXTB"
      },
      "outputs": [],
      "execution_count": null
    }
  ]
}